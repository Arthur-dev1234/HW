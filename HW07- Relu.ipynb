{
 "cells": [
  {
   "cell_type": "markdown",
   "metadata": {},
   "source": [
    "正確率約: 96%"
   ]
  },
  {
   "cell_type": "markdown",
   "metadata": {},
   "source": [
    "改變 Learning rate, epoch, batch size, 神經元個數"
   ]
  },
  {
   "cell_type": "markdown",
   "metadata": {},
   "source": [
    "使用三層神經網路"
   ]
  },
  {
   "cell_type": "code",
   "execution_count": 1,
   "metadata": {},
   "outputs": [
    {
     "name": "stdout",
     "output_type": "stream",
     "text": [
      "env: KERAS_BACKEND=tensorflow\n"
     ]
    },
    {
     "name": "stderr",
     "output_type": "stream",
     "text": [
      "Using TensorFlow backend.\n"
     ]
    },
    {
     "name": "stdout",
     "output_type": "stream",
     "text": [
      "WARNING:tensorflow:From C:\\Anaconda3\\envs\\tensorflow\\lib\\site-packages\\tensorflow\\python\\framework\\op_def_library.py:263: colocate_with (from tensorflow.python.framework.ops) is deprecated and will be removed in a future version.\n",
      "Instructions for updating:\n",
      "Colocations handled automatically by placer.\n",
      "_________________________________________________________________\n",
      "Layer (type)                 Output Shape              Param #   \n",
      "=================================================================\n",
      "dense_1 (Dense)              (None, 300)               235500    \n",
      "_________________________________________________________________\n",
      "activation_1 (Activation)    (None, 300)               0         \n",
      "_________________________________________________________________\n",
      "dense_2 (Dense)              (None, 50)                15050     \n",
      "_________________________________________________________________\n",
      "activation_2 (Activation)    (None, 50)                0         \n",
      "_________________________________________________________________\n",
      "dense_3 (Dense)              (None, 22)                1122      \n",
      "_________________________________________________________________\n",
      "activation_3 (Activation)    (None, 22)                0         \n",
      "_________________________________________________________________\n",
      "dense_4 (Dense)              (None, 10)                230       \n",
      "_________________________________________________________________\n",
      "activation_4 (Activation)    (None, 10)                0         \n",
      "=================================================================\n",
      "Total params: 251,902\n",
      "Trainable params: 251,902\n",
      "Non-trainable params: 0\n",
      "_________________________________________________________________\n",
      "WARNING:tensorflow:From C:\\Anaconda3\\envs\\tensorflow\\lib\\site-packages\\tensorflow\\python\\ops\\math_ops.py:3066: to_int32 (from tensorflow.python.ops.math_ops) is deprecated and will be removed in a future version.\n",
      "Instructions for updating:\n",
      "Use tf.cast instead.\n",
      "Epoch 1/50\n",
      "60000/60000 [==============================] - 1s 24us/step - loss: 0.1451 - acc: 0.2650\n",
      "Epoch 2/50\n",
      "60000/60000 [==============================] - 1s 21us/step - loss: 0.0759 - acc: 0.6108\n",
      "Epoch 3/50\n",
      "60000/60000 [==============================] - 1s 21us/step - loss: 0.0531 - acc: 0.7275\n",
      "Epoch 4/50\n",
      "60000/60000 [==============================] - 1s 20us/step - loss: 0.0256 - acc: 0.8673\n",
      "Epoch 5/50\n",
      "60000/60000 [==============================] - 1s 20us/step - loss: 0.0200 - acc: 0.8972\n",
      "Epoch 6/50\n",
      "60000/60000 [==============================] - 1s 20us/step - loss: 0.0182 - acc: 0.9062\n",
      "Epoch 7/50\n",
      "60000/60000 [==============================] - 1s 20us/step - loss: 0.0163 - acc: 0.9162\n",
      "Epoch 8/50\n",
      "60000/60000 [==============================] - 1s 21us/step - loss: 0.0149 - acc: 0.9233\n",
      "Epoch 9/50\n",
      "60000/60000 [==============================] - 1s 22us/step - loss: 0.0137 - acc: 0.9297\n",
      "Epoch 10/50\n",
      "60000/60000 [==============================] - 1s 21us/step - loss: 0.0130 - acc: 0.9333\n",
      "Epoch 11/50\n",
      "60000/60000 [==============================] - 1s 25us/step - loss: 0.0129 - acc: 0.9338\n",
      "Epoch 12/50\n",
      "60000/60000 [==============================] - 1s 25us/step - loss: 0.0121 - acc: 0.9376\n",
      "Epoch 13/50\n",
      "60000/60000 [==============================] - 1s 25us/step - loss: 0.0116 - acc: 0.9404\n",
      "Epoch 14/50\n",
      "60000/60000 [==============================] - 1s 25us/step - loss: 0.0110 - acc: 0.9433\n",
      "Epoch 15/50\n",
      "60000/60000 [==============================] - 1s 25us/step - loss: 0.0103 - acc: 0.9472\n",
      "Epoch 16/50\n",
      "60000/60000 [==============================] - 1s 25us/step - loss: 0.0100 - acc: 0.9488\n",
      "Epoch 17/50\n",
      "60000/60000 [==============================] - 1s 24us/step - loss: 0.0098 - acc: 0.9496\n",
      "Epoch 18/50\n",
      "60000/60000 [==============================] - 1s 24us/step - loss: 0.0095 - acc: 0.9510\n",
      "Epoch 19/50\n",
      "60000/60000 [==============================] - 1s 24us/step - loss: 0.0089 - acc: 0.9542\n",
      "Epoch 20/50\n",
      "60000/60000 [==============================] - 1s 24us/step - loss: 0.0090 - acc: 0.9536\n",
      "Epoch 21/50\n",
      "60000/60000 [==============================] - 1s 24us/step - loss: 0.0083 - acc: 0.9570\n",
      "Epoch 22/50\n",
      "60000/60000 [==============================] - 1s 24us/step - loss: 0.0085 - acc: 0.9564\n",
      "Epoch 23/50\n",
      "60000/60000 [==============================] - 1s 25us/step - loss: 0.0083 - acc: 0.9575\n",
      "Epoch 24/50\n",
      "60000/60000 [==============================] - 1s 25us/step - loss: 0.0079 - acc: 0.9596\n",
      "Epoch 25/50\n",
      "60000/60000 [==============================] - 2s 26us/step - loss: 0.0073 - acc: 0.9627\n",
      "Epoch 26/50\n",
      "60000/60000 [==============================] - 2s 28us/step - loss: 0.0073 - acc: 0.9623\n",
      "Epoch 27/50\n",
      "60000/60000 [==============================] - 2s 25us/step - loss: 0.0072 - acc: 0.9627\n",
      "Epoch 28/50\n",
      "60000/60000 [==============================] - 1s 25us/step - loss: 0.0074 - acc: 0.9622\n",
      "Epoch 29/50\n",
      "60000/60000 [==============================] - 1s 25us/step - loss: 0.0073 - acc: 0.9627\n",
      "Epoch 30/50\n",
      "60000/60000 [==============================] - 1s 24us/step - loss: 0.0068 - acc: 0.9652\n",
      "Epoch 31/50\n",
      "60000/60000 [==============================] - 1s 24us/step - loss: 0.0064 - acc: 0.9670\n",
      "Epoch 32/50\n",
      "60000/60000 [==============================] - 1s 24us/step - loss: 0.0065 - acc: 0.9666\n",
      "Epoch 33/50\n",
      "60000/60000 [==============================] - 1s 24us/step - loss: 0.0062 - acc: 0.9682\n",
      "Epoch 34/50\n",
      "60000/60000 [==============================] - 1s 24us/step - loss: 0.0061 - acc: 0.9688\n",
      "Epoch 35/50\n",
      "60000/60000 [==============================] - 1s 25us/step - loss: 0.0062 - acc: 0.9680\n",
      "Epoch 36/50\n",
      "60000/60000 [==============================] - 1s 25us/step - loss: 0.0059 - acc: 0.9697\n",
      "Epoch 37/50\n",
      "60000/60000 [==============================] - 1s 25us/step - loss: 0.0062 - acc: 0.9679\n",
      "Epoch 38/50\n",
      "60000/60000 [==============================] - 2s 25us/step - loss: 0.0056 - acc: 0.9709\n",
      "Epoch 39/50\n",
      "60000/60000 [==============================] - 2s 26us/step - loss: 0.0054 - acc: 0.9720\n",
      "Epoch 40/50\n",
      "60000/60000 [==============================] - 1s 25us/step - loss: 0.0055 - acc: 0.9718\n",
      "Epoch 41/50\n",
      "60000/60000 [==============================] - 2s 25us/step - loss: 0.0051 - acc: 0.9736\n",
      "Epoch 42/50\n",
      "60000/60000 [==============================] - 1s 25us/step - loss: 0.0053 - acc: 0.9729\n",
      "Epoch 43/50\n",
      "60000/60000 [==============================] - 2s 25us/step - loss: 0.0051 - acc: 0.9739\n",
      "Epoch 44/50\n",
      "60000/60000 [==============================] - 2s 25us/step - loss: 0.0050 - acc: 0.9743\n",
      "Epoch 45/50\n",
      "60000/60000 [==============================] - 1s 25us/step - loss: 0.0050 - acc: 0.9744\n",
      "Epoch 46/50\n",
      "60000/60000 [==============================] - 2s 27us/step - loss: 0.0048 - acc: 0.9751\n",
      "Epoch 47/50\n",
      "60000/60000 [==============================] - 1s 25us/step - loss: 0.0047 - acc: 0.9758\n",
      "Epoch 48/50\n",
      "60000/60000 [==============================] - 1s 25us/step - loss: 0.0048 - acc: 0.9755\n",
      "Epoch 49/50\n",
      "60000/60000 [==============================] - 2s 26us/step - loss: 0.0046 - acc: 0.9761\n",
      "Epoch 50/50\n",
      "60000/60000 [==============================] - 2s 26us/step - loss: 0.0046 - acc: 0.9765\n",
      "10000/10000 [==============================] - 0s 30us/step\n",
      "loss 0.007340301896108673\n",
      "正確率 0.9621\n"
     ]
    }
   ],
   "source": [
    "%env KERAS_BACKEND=tensorflow\n",
    "%matplotlib inline\n",
    "import numpy as np\n",
    "import matplotlib.pyplot as plt\n",
    "\n",
    "#-----------------------------------------------------------------------\n",
    "from keras.datasets import mnist\n",
    "(x_train, y_train), (x_test, y_test)= mnist.load_data()\n",
    "x_train = x_train.reshape(60000,784)\n",
    "x_test = x_test.reshape(10000,784)\n",
    "\n",
    "#-----------------------------------------------------------------------\n",
    "from keras.utils import np_utils\n",
    "y_train = np_utils.to_categorical(y_train,10)\n",
    "y_test = np_utils.to_categorical(y_test,10)\n",
    "\n",
    "#-----------------------------------------------------------------------\n",
    "from keras.models import Sequential\n",
    "from keras.layers import Dense, Activation\n",
    "from keras.optimizers import SGD\n",
    "model = Sequential()\n",
    "#第一層 300個神經元\n",
    "model.add(Dense(300,input_dim=784))\n",
    "model.add(Activation('relu'))\n",
    "#第二層 50個神經元\n",
    "model.add(Dense(50))\n",
    "model.add(Activation('relu'))\n",
    "#第三層 22個神經元\n",
    "model.add(Dense(22))\n",
    "model.add(Activation('relu'))\n",
    "#希望輸出10維度\n",
    "model.add(Dense(10))\n",
    "model.add(Activation('softmax'))\n",
    "#組裝 mean_square_error ,  lr = learning_rate, metric 可忽略\n",
    "model.compile(loss='mse',optimizer=SGD(lr=0.1), metrics=['accuracy'])\n",
    "#檢視神經網路\n",
    "model.summary()\n",
    "#training epochs = 訓練次數, batch_size = 一次訓練200筆資料\n",
    "model.fit(x_train, y_train, batch_size = 200, epochs=50)\n",
    "\n",
    "#------------------------------------------------------------------------\n",
    "score = model.evaluate(x_test, y_test)\n",
    "print('loss', score[0])\n",
    "print('正確率', score[1])"
   ]
  },
  {
   "cell_type": "code",
   "execution_count": 2,
   "metadata": {},
   "outputs": [
    {
     "data": {
      "application/vnd.jupyter.widget-view+json": {
       "model_id": "834dbfd506c044f98f1e2664751a6349",
       "version_major": 2,
       "version_minor": 0
      },
      "text/plain": [
       "interactive(children=(IntSlider(value=4999, description='測試編號', max=9999), Button(description='Run Interact', …"
      ]
     },
     "metadata": {},
     "output_type": "display_data"
    },
    {
     "data": {
      "text/plain": [
       "<function __main__.test(測試編號)>"
      ]
     },
     "execution_count": 2,
     "metadata": {},
     "output_type": "execute_result"
    }
   ],
   "source": [
    "from ipywidgets import interact_manual\n",
    "predict = model.predict_classes(x_test)\n",
    "def test(測試編號):\n",
    "    plt.imshow(x_test[測試編號].reshape(28,28), cmap = 'Greys')\n",
    "    print('神經網路判斷為:', predict[測試編號])\n",
    "interact_manual(test,測試編號 = (0, 9999))"
   ]
  },
  {
   "cell_type": "code",
   "execution_count": null,
   "metadata": {},
   "outputs": [],
   "source": []
  }
 ],
 "metadata": {
  "kernelspec": {
   "display_name": "Python 3",
   "language": "python",
   "name": "python3"
  },
  "language_info": {
   "codemirror_mode": {
    "name": "ipython",
    "version": 3
   },
   "file_extension": ".py",
   "mimetype": "text/x-python",
   "name": "python",
   "nbconvert_exporter": "python",
   "pygments_lexer": "ipython3",
   "version": "3.5.6"
  }
 },
 "nbformat": 4,
 "nbformat_minor": 2
}
