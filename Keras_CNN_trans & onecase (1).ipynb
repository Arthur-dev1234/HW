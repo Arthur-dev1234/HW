{
 "cells": [
  {
   "cell_type": "code",
   "execution_count": 1,
   "metadata": {},
   "outputs": [
    {
     "name": "stderr",
     "output_type": "stream",
     "text": [
      "Using TensorFlow backend.\n"
     ]
    }
   ],
   "source": [
    "import numpy as np\n",
    "import keras\n",
    "import tensorflow as tf\n",
    "import numpy as np\n",
    "import os\n",
    "import matplotlib.pyplot as plt\n",
    "import random as r\n",
    "import math\n",
    "import keras\n",
    "import cv2\n",
    "\n",
    "from keras import backend as K\n",
    "from keras.models import Sequential\n",
    "from keras.layers import Activation\n",
    "from keras.layers.core import Dense, Flatten\n",
    "from keras.optimizers import Adam\n",
    "from keras.metrics import categorical_crossentropy\n",
    "from keras.preprocessing.image import ImageDataGenerator\n",
    "from keras.layers.normalization import BatchNormalization\n",
    "from keras.layers import Dense,Dropout,Flatten,Conv2D,MaxPooling2D\n",
    "from keras.layers.convolutional import *\n",
    "from sklearn.metrics import confusion_matrix\n",
    "from keras.models import load_model\n",
    "from keras.preprocessing import image\n",
    "from keras.utils import np_utils, plot_model\n",
    "import itertools\n",
    "import matplotlib.pyplot as plt\n",
    "from PIL import Image\n",
    "\n",
    "import warnings\n",
    "warnings.filterwarnings('ignore')"
   ]
  },
  {
   "cell_type": "markdown",
   "metadata": {},
   "source": [
    "## Data Preparation"
   ]
  },
  {
   "cell_type": "code",
   "execution_count": 2,
   "metadata": {},
   "outputs": [],
   "source": [
    "def get_test_files(file_dir):\n",
    "\n",
    "    images = []   \n",
    "    subfolders = []\n",
    "    file_array = []\n",
    "    file_img_list = []\n",
    "    file_all_img = []\n",
    " \n",
    "    for dirPath, dirNames, fileNames in os.walk(file_dir):\n",
    "        \n",
    "        names = []\n",
    "        for name in fileNames:\n",
    "            names.append(os.path.join(dirPath, name))\n",
    "        for name in dirNames:\n",
    "            subfolders.append(os.path.join(dirPath, name))\n",
    "        r.shuffle(names)\n",
    "        if names != []:\n",
    "            images.append(names)\n",
    "\n",
    "    mincount = float(\"Inf\")\n",
    "    for num_folder in subfolders:\n",
    "        n_img = len(os.listdir(num_folder))\n",
    "        \n",
    "        if n_img < mincount:\n",
    "            mincount = n_img\n",
    "\n",
    "    for i in range(len(images)):\n",
    "        images[i] = images[i][0:mincount]\n",
    "        file_img_list.append([])\n",
    "        file_img_list[i] = images[i][0:]\n",
    "\n",
    "    for i in range(len(images)):\n",
    "        file_all_img.extend(file_img_list[i])\n",
    "\n",
    "    file_labels = []\n",
    "    for count in range(len(subfolders)):\n",
    "        file_labels = np.append(file_labels, len(file_img_list[0]) * [count])\n",
    "        #print(len(train_labels))\n",
    "            \n",
    "    file_array = np.array([file_all_img, file_labels])\n",
    "    file_array = file_array[:, np.random.permutation(file_array.shape[1])].T\n",
    "    \n",
    "    file_img = list(file_array[:, 0])\n",
    "    file_labels = list(file_array[:, 1])\n",
    "    file_labels = [int(float(i)) for i in file_labels]\n",
    "    \n",
    "    # 返回图片路径列表和对应标签列表\n",
    "    return file_img, file_labels"
   ]
  },
  {
   "cell_type": "code",
   "execution_count": 3,
   "metadata": {},
   "outputs": [],
   "source": [
    "def get_train_files(file_dir, train_size):\n",
    "\n",
    "    images = []   \n",
    "    subfolders = []\n",
    "    train_array = []\n",
    "    test_array = []\n",
    "    train_img_list = []\n",
    "    test_img_list = []\n",
    "    train_all_img = []\n",
    "    test_all_img = []\n",
    " \n",
    "    for dirPath, dirNames, fileNames in os.walk(file_dir):\n",
    "        \n",
    "        names = []\n",
    "        for name in fileNames:\n",
    "            names.append(os.path.join(dirPath, name))\n",
    "        for name in dirNames:\n",
    "            subfolders.append(os.path.join(dirPath, name))\n",
    "        r.shuffle(names)\n",
    "        if names != []:\n",
    "            images.append(names)\n",
    "\n",
    "    mincount = float(\"Inf\")\n",
    "    for num_folder in subfolders:\n",
    "        n_img = len(os.listdir(num_folder))\n",
    "        \n",
    "        if n_img < mincount:\n",
    "            mincount = n_img\n",
    "\n",
    "    for i in range(len(images)):\n",
    "        images[i] = images[i][0:mincount]\n",
    "        train_img_list.append([])\n",
    "        test_img_list.append([])\n",
    "        train_num = math.ceil(len(images[i]) * train_size)\n",
    "        train_img_list[i] = images[i][0:train_num]\n",
    "        test_img_list[i] = images[i][train_num:]\n",
    "\n",
    "    for i in range(len(images)):\n",
    "        train_all_img.extend(train_img_list[i])\n",
    "\n",
    "    for i in range(len(images)):\n",
    "        test_all_img.extend(test_img_list[i])\n",
    "\n",
    "    train_labels = []\n",
    "    test_labels = []\n",
    "    for count in range(len(subfolders)):\n",
    "        train_labels = np.append(train_labels, len(train_img_list[0]) * [count])\n",
    "        #print(len(train_labels))\n",
    "    for count in range(len(subfolders)):\n",
    "        test_labels = np.append(test_labels, len(test_img_list[0]) * [count])\n",
    "            \n",
    "    train_array = np.array([train_all_img, train_labels])\n",
    "    train_array = train_array[:, np.random.permutation(train_array.shape[1])].T\n",
    "    test_array = np.array([test_all_img, test_labels])\n",
    "    test_array = test_array[:, np.random.permutation(test_array.shape[1])].T\n",
    "    \n",
    "    train_img = list(train_array[:, 0])\n",
    "    train_labels = list(train_array[:, 1])\n",
    "    train_labels = [int(float(i)) for i in train_labels]\n",
    "    \n",
    "    test_img = list(test_array[:, 0])\n",
    "    test_labels = list(test_array[:, 1])\n",
    "    test_labels = [int(float(i)) for i in test_labels]\n",
    "    \n",
    "    # 返回图片路径列表和对应标签列表\n",
    "    return train_img, train_labels, test_img, test_labels"
   ]
  },
  {
   "cell_type": "code",
   "execution_count": 4,
   "metadata": {},
   "outputs": [],
   "source": [
    "target_train_img, target_train_labels ,val_img, val_labels = get_train_files('7x3_1', train_size = 0.2)\n",
    "target_test_img, target_test_labels = get_test_files('7x3_3')"
   ]
  },
  {
   "cell_type": "code",
   "execution_count": 5,
   "metadata": {
    "scrolled": true
   },
   "outputs": [],
   "source": [
    "train_images = []\n",
    "for img in target_train_img:\n",
    "    img = Image.open(img)\n",
    "    img = image.img_to_array(img)\n",
    "    train_images.append(img)\n",
    "\n",
    "x_train = np.array(train_images)\n",
    "y_train = np.array(target_train_labels)"
   ]
  },
  {
   "cell_type": "code",
   "execution_count": 6,
   "metadata": {},
   "outputs": [],
   "source": [
    "val_images = []\n",
    "for img in val_img:\n",
    "    img = Image.open(img)\n",
    "    img = image.img_to_array(img)\n",
    "    val_images.append(img)\n",
    "\n",
    "x_val = np.array(val_images)\n",
    "y_val = np.array(val_labels)"
   ]
  },
  {
   "cell_type": "code",
   "execution_count": 7,
   "metadata": {},
   "outputs": [],
   "source": [
    "test_images = []\n",
    "for img in target_test_img:\n",
    "    img = Image.open(img)\n",
    "    img = image.img_to_array(img)\n",
    "    test_images.append(img)\n",
    "\n",
    "x_test = np.array(test_images)\n",
    "y_test = np.array(target_test_labels)"
   ]
  },
  {
   "cell_type": "markdown",
   "metadata": {},
   "source": [
    "## Normalized"
   ]
  },
  {
   "cell_type": "code",
   "execution_count": 8,
   "metadata": {},
   "outputs": [],
   "source": [
    "x_train /= 255\n",
    "x_val /= 255\n",
    "x_test /= 255\n",
    "y_train_onehot = np_utils.to_categorical(y_train)\n",
    "y_val_onehot = np_utils.to_categorical(y_val)\n",
    "y_test_onehot = np_utils.to_categorical(y_test)"
   ]
  },
  {
   "cell_type": "markdown",
   "metadata": {},
   "source": [
    "## One case train "
   ]
  },
  {
   "cell_type": "code",
   "execution_count": 9,
   "metadata": {},
   "outputs": [
    {
     "name": "stdout",
     "output_type": "stream",
     "text": [
      "WARNING:tensorflow:From C:\\Anaconda3\\envs\\tensorflow\\lib\\site-packages\\tensorflow\\python\\framework\\op_def_library.py:263: colocate_with (from tensorflow.python.framework.ops) is deprecated and will be removed in a future version.\n",
      "Instructions for updating:\n",
      "Colocations handled automatically by placer.\n",
      "WARNING:tensorflow:From C:\\Anaconda3\\envs\\tensorflow\\lib\\site-packages\\keras\\backend\\tensorflow_backend.py:3445: calling dropout (from tensorflow.python.ops.nn_ops) with keep_prob is deprecated and will be removed in a future version.\n",
      "Instructions for updating:\n",
      "Please use `rate` instead of `keep_prob`. Rate should be set to `rate = 1 - keep_prob`.\n",
      "_________________________________________________________________\n",
      "Layer (type)                 Output Shape              Param #   \n",
      "=================================================================\n",
      "conv2d_1 (Conv2D)            (None, 3, 7, 40)          400       \n",
      "_________________________________________________________________\n",
      "batch_normalization_1 (Batch (None, 3, 7, 40)          160       \n",
      "_________________________________________________________________\n",
      "conv2d_2 (Conv2D)            (None, 3, 7, 80)          28880     \n",
      "_________________________________________________________________\n",
      "batch_normalization_2 (Batch (None, 3, 7, 80)          320       \n",
      "_________________________________________________________________\n",
      "conv2d_3 (Conv2D)            (None, 3, 7, 160)         115360    \n",
      "_________________________________________________________________\n",
      "batch_normalization_3 (Batch (None, 3, 7, 160)         640       \n",
      "_________________________________________________________________\n",
      "dropout_1 (Dropout)          (None, 3, 7, 160)         0         \n",
      "_________________________________________________________________\n",
      "flatten_1 (Flatten)          (None, 3360)              0         \n",
      "_________________________________________________________________\n",
      "dense_1 (Dense)              (None, 320)               1075520   \n",
      "_________________________________________________________________\n",
      "dense_2 (Dense)              (None, 5)                 1605      \n",
      "=================================================================\n",
      "Total params: 1,222,885\n",
      "Trainable params: 1,222,325\n",
      "Non-trainable params: 560\n",
      "_________________________________________________________________\n"
     ]
    }
   ],
   "source": [
    "model = Sequential()\n",
    "#卷積層1\n",
    "model.add(Conv2D(filters=40,\n",
    "                 kernel_size=(3,3),\n",
    "                 padding='same',\n",
    "                 input_shape=(3,7,1), \n",
    "                 activation='relu'))\n",
    "model.add(BatchNormalization())\n",
    "#卷積層2\n",
    "model.add(Conv2D(filters=80,\n",
    "                 kernel_size=(3,3),\n",
    "                 padding='same',\n",
    "                 activation='relu'))\n",
    "model.add(BatchNormalization())\n",
    "#卷積層3\n",
    "model.add(Conv2D(filters=160,\n",
    "                 kernel_size=(3,3),\n",
    "                 padding='same',\n",
    "                 activation='relu'))\n",
    "model.add(BatchNormalization())\n",
    "\n",
    "model.add(Dropout(0.25))\n",
    "#平坦層\n",
    "model.add(Flatten())\n",
    "#全連接層\n",
    "model.add(Dense(320, activation='relu'))\n",
    "#輸出層\n",
    "model.add(Dense(5,activation='softmax'))\n",
    "\n",
    "model.summary()"
   ]
  },
  {
   "cell_type": "code",
   "execution_count": 10,
   "metadata": {},
   "outputs": [
    {
     "name": "stdout",
     "output_type": "stream",
     "text": [
      "WARNING:tensorflow:From C:\\Anaconda3\\envs\\tensorflow\\lib\\site-packages\\tensorflow\\python\\ops\\math_ops.py:3066: to_int32 (from tensorflow.python.ops.math_ops) is deprecated and will be removed in a future version.\n",
      "Instructions for updating:\n",
      "Use tf.cast instead.\n",
      "Train on 80 samples, validate on 305 samples\n",
      "Epoch 1/50\n",
      "80/80 [==============================] - 1s 9ms/step - loss: 1.8577 - acc: 0.3000 - val_loss: 0.0578 - val_acc: 0.9869\n",
      "Epoch 2/50\n",
      "80/80 [==============================] - 0s 2ms/step - loss: 0.0253 - acc: 0.9750 - val_loss: 0.1168 - val_acc: 0.9607\n",
      "Epoch 3/50\n",
      "80/80 [==============================] - 0s 2ms/step - loss: 0.0735 - acc: 0.9875 - val_loss: 0.0381 - val_acc: 0.9902\n",
      "Epoch 4/50\n",
      "80/80 [==============================] - 0s 1ms/step - loss: 0.0011 - acc: 1.0000 - val_loss: 0.2629 - val_acc: 0.9311\n",
      "Epoch 5/50\n",
      "80/80 [==============================] - 0s 2ms/step - loss: 0.1480 - acc: 0.9375 - val_loss: 0.0383 - val_acc: 0.9869\n",
      "Epoch 6/50\n",
      "80/80 [==============================] - 0s 2ms/step - loss: 0.0026 - acc: 1.0000 - val_loss: 0.0682 - val_acc: 0.9770\n",
      "Epoch 7/50\n",
      "80/80 [==============================] - 0s 2ms/step - loss: 0.1280 - acc: 0.9500 - val_loss: 0.0521 - val_acc: 0.9869\n",
      "Epoch 8/50\n",
      "80/80 [==============================] - 0s 2ms/step - loss: 0.0288 - acc: 0.9875 - val_loss: 0.0302 - val_acc: 0.9902\n",
      "Epoch 9/50\n",
      "80/80 [==============================] - 0s 2ms/step - loss: 0.0024 - acc: 1.0000 - val_loss: 0.0567 - val_acc: 0.9934\n",
      "Epoch 10/50\n",
      "80/80 [==============================] - 0s 2ms/step - loss: 0.0572 - acc: 0.9875 - val_loss: 0.0893 - val_acc: 0.9836\n",
      "Epoch 11/50\n",
      "80/80 [==============================] - 0s 2ms/step - loss: 0.0099 - acc: 1.0000 - val_loss: 0.0902 - val_acc: 0.9902\n",
      "Epoch 12/50\n",
      "80/80 [==============================] - 0s 2ms/step - loss: 0.0077 - acc: 1.0000 - val_loss: 0.0647 - val_acc: 0.9902\n",
      "Epoch 13/50\n",
      "80/80 [==============================] - 0s 2ms/step - loss: 1.0422e-05 - acc: 1.0000 - val_loss: 0.0725 - val_acc: 0.9934\n",
      "Epoch 14/50\n",
      "80/80 [==============================] - 0s 2ms/step - loss: 0.0393 - acc: 0.9875 - val_loss: 0.0712 - val_acc: 0.9934\n",
      "Epoch 15/50\n",
      "80/80 [==============================] - 0s 2ms/step - loss: 0.0143 - acc: 1.0000 - val_loss: 0.0629 - val_acc: 0.9934\n",
      "Epoch 16/50\n",
      "80/80 [==============================] - 0s 2ms/step - loss: 5.3623e-04 - acc: 1.0000 - val_loss: 0.0580 - val_acc: 0.9934\n",
      "Epoch 17/50\n",
      "80/80 [==============================] - 0s 2ms/step - loss: 0.0012 - acc: 1.0000 - val_loss: 0.0583 - val_acc: 0.9934\n",
      "Epoch 18/50\n",
      "80/80 [==============================] - 0s 2ms/step - loss: 0.0015 - acc: 1.0000 - val_loss: 0.0617 - val_acc: 0.9934\n",
      "Epoch 19/50\n",
      "80/80 [==============================] - 0s 2ms/step - loss: 8.3647e-06 - acc: 1.0000 - val_loss: 0.0652 - val_acc: 0.9934\n",
      "Epoch 20/50\n",
      "80/80 [==============================] - 0s 2ms/step - loss: 6.3491e-06 - acc: 1.0000 - val_loss: 0.0690 - val_acc: 0.9934\n",
      "Epoch 21/50\n",
      "80/80 [==============================] - 0s 2ms/step - loss: 1.0239e-05 - acc: 1.0000 - val_loss: 0.0734 - val_acc: 0.9902\n",
      "Epoch 22/50\n",
      "80/80 [==============================] - 0s 2ms/step - loss: 1.3384e-05 - acc: 1.0000 - val_loss: 0.0778 - val_acc: 0.9902\n",
      "Epoch 23/50\n",
      "80/80 [==============================] - 0s 2ms/step - loss: 7.9761e-05 - acc: 1.0000 - val_loss: 0.0816 - val_acc: 0.9902\n",
      "Epoch 24/50\n",
      "80/80 [==============================] - 0s 2ms/step - loss: 1.8319e-05 - acc: 1.0000 - val_loss: 0.0852 - val_acc: 0.9902\n",
      "Epoch 25/50\n",
      "80/80 [==============================] - 0s 2ms/step - loss: 3.4126e-05 - acc: 1.0000 - val_loss: 0.0880 - val_acc: 0.9902\n",
      "Epoch 26/50\n",
      "80/80 [==============================] - 0s 2ms/step - loss: 2.4808e-05 - acc: 1.0000 - val_loss: 0.0909 - val_acc: 0.9869\n",
      "Epoch 27/50\n",
      "80/80 [==============================] - 0s 1ms/step - loss: 3.2261e-05 - acc: 1.0000 - val_loss: 0.0924 - val_acc: 0.9869\n",
      "Epoch 28/50\n",
      "80/80 [==============================] - 0s 2ms/step - loss: 1.7994e-05 - acc: 1.0000 - val_loss: 0.0940 - val_acc: 0.9869\n",
      "Epoch 29/50\n",
      "80/80 [==============================] - 0s 2ms/step - loss: 1.0911e-05 - acc: 1.0000 - val_loss: 0.0945 - val_acc: 0.9869\n",
      "Epoch 30/50\n",
      "80/80 [==============================] - 0s 2ms/step - loss: 3.6271e-05 - acc: 1.0000 - val_loss: 0.0952 - val_acc: 0.9869\n",
      "Epoch 31/50\n",
      "80/80 [==============================] - 0s 2ms/step - loss: 8.6148e-06 - acc: 1.0000 - val_loss: 0.0954 - val_acc: 0.9869\n",
      "Epoch 32/50\n",
      "80/80 [==============================] - 0s 2ms/step - loss: 5.2210e-06 - acc: 1.0000 - val_loss: 0.0956 - val_acc: 0.9869\n",
      "Epoch 33/50\n",
      "80/80 [==============================] - 0s 2ms/step - loss: 4.9734e-05 - acc: 1.0000 - val_loss: 0.0957 - val_acc: 0.9869\n",
      "Epoch 34/50\n",
      "80/80 [==============================] - 0s 2ms/step - loss: 1.7976e-05 - acc: 1.0000 - val_loss: 0.0958 - val_acc: 0.9869\n",
      "Epoch 35/50\n",
      "80/80 [==============================] - 0s 2ms/step - loss: 4.0598e-05 - acc: 1.0000 - val_loss: 0.0957 - val_acc: 0.9869\n",
      "Epoch 36/50\n",
      "80/80 [==============================] - 0s 2ms/step - loss: 2.8352e-06 - acc: 1.0000 - val_loss: 0.0956 - val_acc: 0.9869\n",
      "Epoch 37/50\n",
      "80/80 [==============================] - 0s 2ms/step - loss: 1.4469e-06 - acc: 1.0000 - val_loss: 0.0954 - val_acc: 0.9869\n",
      "Epoch 38/50\n",
      "80/80 [==============================] - 0s 2ms/step - loss: 2.5321e-05 - acc: 1.0000 - val_loss: 0.0952 - val_acc: 0.9869\n",
      "Epoch 39/50\n",
      "80/80 [==============================] - 0s 2ms/step - loss: 3.4916e-06 - acc: 1.0000 - val_loss: 0.0948 - val_acc: 0.9869\n",
      "Epoch 40/50\n",
      "80/80 [==============================] - 0s 2ms/step - loss: 2.8209e-06 - acc: 1.0000 - val_loss: 0.0944 - val_acc: 0.9902\n",
      "Epoch 41/50\n",
      "80/80 [==============================] - 0s 2ms/step - loss: 1.0446e-06 - acc: 1.0000 - val_loss: 0.0940 - val_acc: 0.9902\n",
      "Epoch 42/50\n",
      "80/80 [==============================] - 0s 2ms/step - loss: 2.2554e-06 - acc: 1.0000 - val_loss: 0.0937 - val_acc: 0.9902\n",
      "Epoch 43/50\n",
      "80/80 [==============================] - 0s 2ms/step - loss: 4.4387e-06 - acc: 1.0000 - val_loss: 0.0934 - val_acc: 0.9902\n",
      "Epoch 44/50\n",
      "80/80 [==============================] - 0s 2ms/step - loss: 9.4490e-06 - acc: 1.0000 - val_loss: 0.0932 - val_acc: 0.9902\n",
      "Epoch 45/50\n",
      "80/80 [==============================] - 0s 2ms/step - loss: 2.0006e-06 - acc: 1.0000 - val_loss: 0.0929 - val_acc: 0.9902\n",
      "Epoch 46/50\n",
      "80/80 [==============================] - 0s 2ms/step - loss: 4.8556e-06 - acc: 1.0000 - val_loss: 0.0926 - val_acc: 0.9902\n",
      "Epoch 47/50\n",
      "80/80 [==============================] - 0s 2ms/step - loss: 4.9696e-07 - acc: 1.0000 - val_loss: 0.0923 - val_acc: 0.9902\n",
      "Epoch 48/50\n",
      "80/80 [==============================] - 0s 2ms/step - loss: 2.2942e-06 - acc: 1.0000 - val_loss: 0.0920 - val_acc: 0.9902\n",
      "Epoch 49/50\n",
      "80/80 [==============================] - 0s 2ms/step - loss: 3.7123e-06 - acc: 1.0000 - val_loss: 0.0916 - val_acc: 0.9902\n",
      "Epoch 50/50\n",
      "80/80 [==============================] - 0s 2ms/step - loss: 1.1139e-06 - acc: 1.0000 - val_loss: 0.0915 - val_acc: 0.9902\n"
     ]
    }
   ],
   "source": [
    "model.compile(loss='categorical_crossentropy', optimizer='adam',metrics=['accuracy'])\n",
    "train_history=model.fit(x=x_train, \n",
    "                        y=y_train_onehot,validation_data=(x_val, y_val_onehot), \n",
    "                        epochs=50, batch_size=64,verbose=1)"
   ]
  },
  {
   "cell_type": "markdown",
   "metadata": {},
   "source": [
    "## Transfer Train "
   ]
  },
  {
   "cell_type": "code",
   "execution_count": 11,
   "metadata": {
    "scrolled": true
   },
   "outputs": [
    {
     "name": "stdout",
     "output_type": "stream",
     "text": [
      "_________________________________________________________________\n",
      "Layer (type)                 Output Shape              Param #   \n",
      "=================================================================\n",
      "conv_1 (Conv2D)              (None, 3, 7, 40)          400       \n",
      "_________________________________________________________________\n",
      "bn_1 (BatchNormalization)    (None, 3, 7, 40)          160       \n",
      "_________________________________________________________________\n",
      "conv_2 (Conv2D)              (None, 3, 7, 80)          28880     \n",
      "_________________________________________________________________\n",
      "bn_2 (BatchNormalization)    (None, 3, 7, 80)          320       \n",
      "_________________________________________________________________\n",
      "conv_3 (Conv2D)              (None, 3, 7, 160)         115360    \n",
      "_________________________________________________________________\n",
      "bn_3 (BatchNormalization)    (None, 3, 7, 160)         640       \n",
      "_________________________________________________________________\n",
      "DP (Dropout)                 (None, 3, 7, 160)         0         \n",
      "_________________________________________________________________\n",
      "Flat (Flatten)               (None, 3360)              0         \n",
      "_________________________________________________________________\n",
      "dense_1 (Dense)              (None, 320)               1075520   \n",
      "_________________________________________________________________\n",
      "dense_2 (Dense)              (None, 5)                 1605      \n",
      "=================================================================\n",
      "Total params: 1,222,885\n",
      "Trainable params: 1,222,325\n",
      "Non-trainable params: 560\n",
      "_________________________________________________________________\n"
     ]
    }
   ],
   "source": [
    "model_trans = Sequential()\n",
    "#卷積層1\n",
    "model_trans.add(Conv2D(filters=40,\n",
    "                 kernel_size=(3,3),\n",
    "                 padding='same',\n",
    "                 input_shape=(3,7,1), \n",
    "                 activation='relu', name = \"conv_1\"))\n",
    "model_trans.add(BatchNormalization(name = \"bn_1\"))\n",
    "#卷積層2\n",
    "model_trans.add(Conv2D(filters=80,\n",
    "                 kernel_size=(3,3),\n",
    "                 padding='same',\n",
    "                 activation='relu', name = \"conv_2\"))\n",
    "model_trans.add(BatchNormalization(name = \"bn_2\"))\n",
    "#卷積層3\n",
    "model_trans.add(Conv2D(filters=160,\n",
    "                 kernel_size=(3,3),\n",
    "                 padding='same',\n",
    "                 activation='relu', name = \"conv_3\"))\n",
    "model_trans.add(BatchNormalization(name = \"bn_3\"))\n",
    "\n",
    "model_trans.add(Dropout(0.25, name = \"DP\"))\n",
    "#平坦層\n",
    "model_trans.add(Flatten(name = \"Flat\"))\n",
    "#全連接層\n",
    "model_trans.add(Dense(320, activation='relu', name = \"dense_1\"))\n",
    "#輸出層\n",
    "model_trans.add(Dense(5,activation='softmax', name = \"dense_2\"))\n",
    "\n",
    "model_trans.compile(loss='categorical_crossentropy', optimizer='adam',metrics=['accuracy']) \n",
    "\n",
    "model_trans.summary()"
   ]
  },
  {
   "cell_type": "code",
   "execution_count": 12,
   "metadata": {},
   "outputs": [
    {
     "name": "stdout",
     "output_type": "stream",
     "text": [
      "Train on 80 samples, validate on 305 samples\n",
      "Epoch 1/50\n",
      "80/80 [==============================] - 1s 10ms/step - loss: 1.9575 - acc: 0.8125 - val_loss: 0.5882 - val_acc: 0.9377\n",
      "Epoch 2/50\n",
      "80/80 [==============================] - 0s 2ms/step - loss: 0.4272 - acc: 0.9375 - val_loss: 0.5049 - val_acc: 0.9443\n",
      "Epoch 3/50\n",
      "80/80 [==============================] - 0s 2ms/step - loss: 0.2395 - acc: 0.9750 - val_loss: 0.4934 - val_acc: 0.9574\n",
      "Epoch 4/50\n",
      "80/80 [==============================] - 0s 1ms/step - loss: 0.2670 - acc: 0.9750 - val_loss: 0.4828 - val_acc: 0.9541\n",
      "Epoch 5/50\n",
      "80/80 [==============================] - 0s 2ms/step - loss: 0.2354 - acc: 0.9750 - val_loss: 0.4823 - val_acc: 0.9508\n",
      "Epoch 6/50\n",
      "80/80 [==============================] - 0s 2ms/step - loss: 0.2017 - acc: 0.9875 - val_loss: 0.5070 - val_acc: 0.9541\n",
      "Epoch 7/50\n",
      "80/80 [==============================] - 0s 2ms/step - loss: 0.2019 - acc: 0.9875 - val_loss: 0.5269 - val_acc: 0.9508\n",
      "Epoch 8/50\n",
      "80/80 [==============================] - 0s 2ms/step - loss: 0.2445 - acc: 0.9750 - val_loss: 0.4654 - val_acc: 0.9574\n",
      "Epoch 9/50\n",
      "80/80 [==============================] - 0s 2ms/step - loss: 0.2023 - acc: 0.9875 - val_loss: 0.4463 - val_acc: 0.9705\n",
      "Epoch 10/50\n",
      "80/80 [==============================] - 0s 2ms/step - loss: 0.2198 - acc: 0.9625 - val_loss: 0.4013 - val_acc: 0.9705\n",
      "Epoch 11/50\n",
      "80/80 [==============================] - 0s 2ms/step - loss: 0.2015 - acc: 0.9875 - val_loss: 0.3509 - val_acc: 0.9705\n",
      "Epoch 12/50\n",
      "80/80 [==============================] - 0s 2ms/step - loss: 0.1779 - acc: 0.9875 - val_loss: 0.2780 - val_acc: 0.9705\n",
      "Epoch 13/50\n",
      "80/80 [==============================] - 0s 2ms/step - loss: 0.1243 - acc: 0.9875 - val_loss: 0.2156 - val_acc: 0.9705\n",
      "Epoch 14/50\n",
      "80/80 [==============================] - 0s 2ms/step - loss: 0.0225 - acc: 0.9875 - val_loss: 0.1770 - val_acc: 0.9738\n",
      "Epoch 15/50\n",
      "80/80 [==============================] - 0s 2ms/step - loss: 0.0171 - acc: 0.9875 - val_loss: 0.1591 - val_acc: 0.9836\n",
      "Epoch 16/50\n",
      "80/80 [==============================] - 0s 2ms/step - loss: 0.0011 - acc: 1.0000 - val_loss: 0.1499 - val_acc: 0.9869\n",
      "Epoch 17/50\n",
      "80/80 [==============================] - 0s 2ms/step - loss: 9.4517e-05 - acc: 1.0000 - val_loss: 0.1436 - val_acc: 0.9869\n",
      "Epoch 18/50\n",
      "80/80 [==============================] - 0s 2ms/step - loss: 7.9712e-05 - acc: 1.0000 - val_loss: 0.1397 - val_acc: 0.9869\n",
      "Epoch 19/50\n",
      "80/80 [==============================] - 0s 2ms/step - loss: 6.6974e-05 - acc: 1.0000 - val_loss: 0.1378 - val_acc: 0.9869\n",
      "Epoch 20/50\n",
      "80/80 [==============================] - 0s 2ms/step - loss: 1.2247e-05 - acc: 1.0000 - val_loss: 0.1342 - val_acc: 0.9869\n",
      "Epoch 21/50\n",
      "80/80 [==============================] - 0s 2ms/step - loss: 3.3334e-05 - acc: 1.0000 - val_loss: 0.1323 - val_acc: 0.9869\n",
      "Epoch 22/50\n",
      "80/80 [==============================] - 0s 2ms/step - loss: 2.4083e-05 - acc: 1.0000 - val_loss: 0.1289 - val_acc: 0.9869\n",
      "Epoch 23/50\n",
      "80/80 [==============================] - 0s 2ms/step - loss: 2.8364e-05 - acc: 1.0000 - val_loss: 0.1272 - val_acc: 0.9869\n",
      "Epoch 24/50\n",
      "80/80 [==============================] - 0s 2ms/step - loss: 7.4269e-06 - acc: 1.0000 - val_loss: 0.1261 - val_acc: 0.9869\n",
      "Epoch 25/50\n",
      "80/80 [==============================] - 0s 2ms/step - loss: 1.1791e-05 - acc: 1.0000 - val_loss: 0.1244 - val_acc: 0.9869\n",
      "Epoch 26/50\n",
      "80/80 [==============================] - 0s 2ms/step - loss: 1.5329e-04 - acc: 1.0000 - val_loss: 0.1227 - val_acc: 0.9869\n",
      "Epoch 27/50\n",
      "80/80 [==============================] - 0s 2ms/step - loss: 2.0499e-05 - acc: 1.0000 - val_loss: 0.1225 - val_acc: 0.9869\n",
      "Epoch 28/50\n",
      "80/80 [==============================] - 0s 2ms/step - loss: 1.4745e-05 - acc: 1.0000 - val_loss: 0.1213 - val_acc: 0.9869\n",
      "Epoch 29/50\n",
      "80/80 [==============================] - 0s 2ms/step - loss: 1.4639e-05 - acc: 1.0000 - val_loss: 0.1198 - val_acc: 0.9869\n",
      "Epoch 30/50\n",
      "80/80 [==============================] - 0s 2ms/step - loss: 3.2943e-05 - acc: 1.0000 - val_loss: 0.1188 - val_acc: 0.9869\n",
      "Epoch 31/50\n",
      "80/80 [==============================] - 0s 2ms/step - loss: 3.8432e-06 - acc: 1.0000 - val_loss: 0.1178 - val_acc: 0.9869\n",
      "Epoch 32/50\n",
      "80/80 [==============================] - 0s 2ms/step - loss: 6.4015e-06 - acc: 1.0000 - val_loss: 0.1171 - val_acc: 0.9869\n",
      "Epoch 33/50\n",
      "80/80 [==============================] - 0s 2ms/step - loss: 1.1746e-05 - acc: 1.0000 - val_loss: 0.1167 - val_acc: 0.9869\n",
      "Epoch 34/50\n",
      "80/80 [==============================] - 0s 2ms/step - loss: 8.9500e-06 - acc: 1.0000 - val_loss: 0.1160 - val_acc: 0.9869\n",
      "Epoch 35/50\n",
      "80/80 [==============================] - 0s 2ms/step - loss: 3.4414e-05 - acc: 1.0000 - val_loss: 0.1163 - val_acc: 0.9869\n",
      "Epoch 36/50\n",
      "80/80 [==============================] - 0s 2ms/step - loss: 5.9323e-06 - acc: 1.0000 - val_loss: 0.1164 - val_acc: 0.9869\n",
      "Epoch 37/50\n",
      "80/80 [==============================] - 0s 2ms/step - loss: 1.6272e-06 - acc: 1.0000 - val_loss: 0.1160 - val_acc: 0.9869\n",
      "Epoch 38/50\n",
      "80/80 [==============================] - 0s 2ms/step - loss: 7.6669e-06 - acc: 1.0000 - val_loss: 0.1158 - val_acc: 0.9869\n",
      "Epoch 39/50\n",
      "80/80 [==============================] - 0s 2ms/step - loss: 3.3149e-06 - acc: 1.0000 - val_loss: 0.1153 - val_acc: 0.9869\n",
      "Epoch 40/50\n",
      "80/80 [==============================] - 0s 2ms/step - loss: 1.1706e-05 - acc: 1.0000 - val_loss: 0.1150 - val_acc: 0.9869\n",
      "Epoch 41/50\n",
      "80/80 [==============================] - 0s 2ms/step - loss: 1.2435e-06 - acc: 1.0000 - val_loss: 0.1147 - val_acc: 0.9869\n",
      "Epoch 42/50\n",
      "80/80 [==============================] - 0s 2ms/step - loss: 4.8567e-06 - acc: 1.0000 - val_loss: 0.1149 - val_acc: 0.9869\n",
      "Epoch 43/50\n",
      "80/80 [==============================] - 0s 2ms/step - loss: 8.7650e-06 - acc: 1.0000 - val_loss: 0.1143 - val_acc: 0.9869\n",
      "Epoch 44/50\n",
      "80/80 [==============================] - 0s 2ms/step - loss: 1.7909e-05 - acc: 1.0000 - val_loss: 0.1140 - val_acc: 0.9869\n",
      "Epoch 45/50\n",
      "80/80 [==============================] - 0s 2ms/step - loss: 4.7087e-06 - acc: 1.0000 - val_loss: 0.1138 - val_acc: 0.9869\n",
      "Epoch 46/50\n",
      "80/80 [==============================] - 0s 2ms/step - loss: 3.0445e-06 - acc: 1.0000 - val_loss: 0.1140 - val_acc: 0.9869\n",
      "Epoch 47/50\n",
      "80/80 [==============================] - 0s 2ms/step - loss: 1.3523e-06 - acc: 1.0000 - val_loss: 0.1141 - val_acc: 0.9869\n",
      "Epoch 48/50\n",
      "80/80 [==============================] - 0s 2ms/step - loss: 1.8210e-06 - acc: 1.0000 - val_loss: 0.1140 - val_acc: 0.9869\n",
      "Epoch 49/50\n",
      "80/80 [==============================] - 0s 2ms/step - loss: 2.4707e-06 - acc: 1.0000 - val_loss: 0.1136 - val_acc: 0.9869\n",
      "Epoch 50/50\n",
      "80/80 [==============================] - 0s 2ms/step - loss: 2.6883e-06 - acc: 1.0000 - val_loss: 0.1136 - val_acc: 0.9869\n"
     ]
    }
   ],
   "source": [
    "model_trans.load_weights('models/m1/pre/model_weights.h5', by_name = True)\n",
    "\n",
    "train_history_trans = model_trans.fit(x=x_train, \n",
    "                                      y=y_train_onehot,validation_data=(x_val, y_val_onehot), \n",
    "                                      epochs=50, batch_size=64,verbose=1)"
   ]
  },
  {
   "cell_type": "markdown",
   "metadata": {},
   "source": [
    "## One case predict "
   ]
  },
  {
   "cell_type": "code",
   "execution_count": 13,
   "metadata": {},
   "outputs": [
    {
     "name": "stdout",
     "output_type": "stream",
     "text": [
      "1145/1145 [==============================] - 0s 213us/step\n",
      "\n",
      "accuracy= 0.9886462877410989\n"
     ]
    }
   ],
   "source": [
    "scores = model.evaluate(x_test,y_test_onehot)\n",
    "print()\n",
    "print('accuracy=',scores[1])"
   ]
  },
  {
   "cell_type": "code",
   "execution_count": 14,
   "metadata": {
    "scrolled": true
   },
   "outputs": [
    {
     "data": {
      "text/html": [
       "<div>\n",
       "<style scoped>\n",
       "    .dataframe tbody tr th:only-of-type {\n",
       "        vertical-align: middle;\n",
       "    }\n",
       "\n",
       "    .dataframe tbody tr th {\n",
       "        vertical-align: top;\n",
       "    }\n",
       "\n",
       "    .dataframe thead th {\n",
       "        text-align: right;\n",
       "    }\n",
       "</style>\n",
       "<table border=\"1\" class=\"dataframe\">\n",
       "  <thead>\n",
       "    <tr style=\"text-align: right;\">\n",
       "      <th>predict</th>\n",
       "      <th>0</th>\n",
       "      <th>1</th>\n",
       "      <th>2</th>\n",
       "      <th>3</th>\n",
       "      <th>4</th>\n",
       "    </tr>\n",
       "    <tr>\n",
       "      <th>label</th>\n",
       "      <th></th>\n",
       "      <th></th>\n",
       "      <th></th>\n",
       "      <th></th>\n",
       "      <th></th>\n",
       "    </tr>\n",
       "  </thead>\n",
       "  <tbody>\n",
       "    <tr>\n",
       "      <th>0</th>\n",
       "      <td>229</td>\n",
       "      <td>0</td>\n",
       "      <td>0</td>\n",
       "      <td>0</td>\n",
       "      <td>0</td>\n",
       "    </tr>\n",
       "    <tr>\n",
       "      <th>1</th>\n",
       "      <td>0</td>\n",
       "      <td>227</td>\n",
       "      <td>0</td>\n",
       "      <td>0</td>\n",
       "      <td>2</td>\n",
       "    </tr>\n",
       "    <tr>\n",
       "      <th>2</th>\n",
       "      <td>5</td>\n",
       "      <td>0</td>\n",
       "      <td>223</td>\n",
       "      <td>0</td>\n",
       "      <td>1</td>\n",
       "    </tr>\n",
       "    <tr>\n",
       "      <th>3</th>\n",
       "      <td>4</td>\n",
       "      <td>0</td>\n",
       "      <td>0</td>\n",
       "      <td>224</td>\n",
       "      <td>1</td>\n",
       "    </tr>\n",
       "    <tr>\n",
       "      <th>4</th>\n",
       "      <td>0</td>\n",
       "      <td>0</td>\n",
       "      <td>0</td>\n",
       "      <td>0</td>\n",
       "      <td>229</td>\n",
       "    </tr>\n",
       "  </tbody>\n",
       "</table>\n",
       "</div>"
      ],
      "text/plain": [
       "predict    0    1    2    3    4\n",
       "label                           \n",
       "0        229    0    0    0    0\n",
       "1          0  227    0    0    2\n",
       "2          5    0  223    0    1\n",
       "3          4    0    0  224    1\n",
       "4          0    0    0    0  229"
      ]
     },
     "execution_count": 14,
     "metadata": {},
     "output_type": "execute_result"
    }
   ],
   "source": [
    "import pandas as pd\n",
    "prediction = model.predict_classes(x_test)\n",
    "pd.crosstab(y_test, prediction, rownames=['label'], colnames=['predict'])"
   ]
  },
  {
   "cell_type": "markdown",
   "metadata": {},
   "source": [
    "## Transfer predict "
   ]
  },
  {
   "cell_type": "code",
   "execution_count": 15,
   "metadata": {},
   "outputs": [
    {
     "name": "stdout",
     "output_type": "stream",
     "text": [
      "1145/1145 [==============================] - 0s 199us/step\n",
      "\n",
      "accuracy= 0.9921397379912664\n"
     ]
    }
   ],
   "source": [
    "scores = model_trans.evaluate(x_test,y_test_onehot)\n",
    "print()\n",
    "print('accuracy=',scores[1])"
   ]
  },
  {
   "cell_type": "code",
   "execution_count": 16,
   "metadata": {},
   "outputs": [
    {
     "data": {
      "text/html": [
       "<div>\n",
       "<style scoped>\n",
       "    .dataframe tbody tr th:only-of-type {\n",
       "        vertical-align: middle;\n",
       "    }\n",
       "\n",
       "    .dataframe tbody tr th {\n",
       "        vertical-align: top;\n",
       "    }\n",
       "\n",
       "    .dataframe thead th {\n",
       "        text-align: right;\n",
       "    }\n",
       "</style>\n",
       "<table border=\"1\" class=\"dataframe\">\n",
       "  <thead>\n",
       "    <tr style=\"text-align: right;\">\n",
       "      <th>predict</th>\n",
       "      <th>0</th>\n",
       "      <th>1</th>\n",
       "      <th>2</th>\n",
       "      <th>3</th>\n",
       "      <th>4</th>\n",
       "    </tr>\n",
       "    <tr>\n",
       "      <th>label</th>\n",
       "      <th></th>\n",
       "      <th></th>\n",
       "      <th></th>\n",
       "      <th></th>\n",
       "      <th></th>\n",
       "    </tr>\n",
       "  </thead>\n",
       "  <tbody>\n",
       "    <tr>\n",
       "      <th>0</th>\n",
       "      <td>229</td>\n",
       "      <td>0</td>\n",
       "      <td>0</td>\n",
       "      <td>0</td>\n",
       "      <td>0</td>\n",
       "    </tr>\n",
       "    <tr>\n",
       "      <th>1</th>\n",
       "      <td>0</td>\n",
       "      <td>227</td>\n",
       "      <td>0</td>\n",
       "      <td>1</td>\n",
       "      <td>1</td>\n",
       "    </tr>\n",
       "    <tr>\n",
       "      <th>2</th>\n",
       "      <td>0</td>\n",
       "      <td>0</td>\n",
       "      <td>229</td>\n",
       "      <td>0</td>\n",
       "      <td>0</td>\n",
       "    </tr>\n",
       "    <tr>\n",
       "      <th>3</th>\n",
       "      <td>1</td>\n",
       "      <td>0</td>\n",
       "      <td>0</td>\n",
       "      <td>228</td>\n",
       "      <td>0</td>\n",
       "    </tr>\n",
       "    <tr>\n",
       "      <th>4</th>\n",
       "      <td>0</td>\n",
       "      <td>0</td>\n",
       "      <td>0</td>\n",
       "      <td>6</td>\n",
       "      <td>223</td>\n",
       "    </tr>\n",
       "  </tbody>\n",
       "</table>\n",
       "</div>"
      ],
      "text/plain": [
       "predict    0    1    2    3    4\n",
       "label                           \n",
       "0        229    0    0    0    0\n",
       "1          0  227    0    1    1\n",
       "2          0    0  229    0    0\n",
       "3          1    0    0  228    0\n",
       "4          0    0    0    6  223"
      ]
     },
     "execution_count": 16,
     "metadata": {},
     "output_type": "execute_result"
    }
   ],
   "source": [
    "import pandas as pd\n",
    "prediction = model_trans.predict_classes(x_test)\n",
    "pd.crosstab(y_test, prediction, rownames=['label'], colnames=['predict'])"
   ]
  },
  {
   "cell_type": "markdown",
   "metadata": {},
   "source": [
    "## Graphically display"
   ]
  },
  {
   "cell_type": "code",
   "execution_count": 17,
   "metadata": {},
   "outputs": [],
   "source": [
    "def show_train_history(train_history, title, train, validation):\n",
    "    plt.plot(train_history.history[train])\n",
    "    plt.plot(train_history.history[validation])\n",
    "    plt.title(title)\n",
    "    plt.ylabel(train)\n",
    "    plt.xlabel('Epoch')\n",
    "    plt.legend(['train', 'validation'], loc = 'upper left')\n",
    "    plt.show()"
   ]
  },
  {
   "cell_type": "code",
   "execution_count": 18,
   "metadata": {},
   "outputs": [
    {
     "data": {
      "image/png": "[encoded data removed]",
      "text/plain": [
       "<Figure size 432x288 with 1 Axes>"
      ]
     },
     "metadata": {
      "needs_background": "light"
     },
     "output_type": "display_data"
    },
    {
     "data": {
      "image/png": "[encoded data removed]",
      "text/plain": [
       "<Figure size 432x288 with 1 Axes>"
      ]
     },
     "metadata": {
      "needs_background": "light"
     },
     "output_type": "display_data"
    }
   ],
   "source": [
    "show_train_history(train_history, 'Accuracy', 'acc', 'val_acc')\n",
    "show_train_history(train_history, 'Loss', 'loss', 'val_loss')"
   ]
  },
  {
   "cell_type": "code",
   "execution_count": 19,
   "metadata": {},
   "outputs": [
    {
     "data": {
      "image/png": "[encoded data removed]",
      "text/plain": [
       "<Figure size 432x288 with 1 Axes>"
      ]
     },
     "metadata": {
      "needs_background": "light"
     },
     "output_type": "display_data"
    },
    {
     "data": {
      "image/png": "[encoded data removed]",
      "text/plain": [
       "<Figure size 432x288 with 1 Axes>"
      ]
     },
     "metadata": {
      "needs_background": "light"
     },
     "output_type": "display_data"
    }
   ],
   "source": [
    "show_train_history(train_history_trans, 'Accuracy', 'acc', 'val_acc')\n",
    "show_train_history(train_history_trans, 'Loss', 'loss', 'val_loss')"
   ]
  },
  {
   "cell_type": "markdown",
   "metadata": {},
   "source": [
    "## Save Model"
   ]
  },
  {
   "cell_type": "code",
   "execution_count": 20,
   "metadata": {},
   "outputs": [],
   "source": [
    "model.save('models/m1/trans/trans_model.h5')"
   ]
  },
  {
   "cell_type": "code",
   "execution_count": 21,
   "metadata": {
    "scrolled": true
   },
   "outputs": [
    {
     "name": "stdout",
     "output_type": "stream",
     "text": [
      "WARNING:tensorflow:From C:\\Anaconda3\\envs\\tensorflow\\lib\\site-packages\\tensorflow\\lite\\python\\lite.py:591: convert_variables_to_constants (from tensorflow.python.framework.graph_util_impl) is deprecated and will be removed in a future version.\n",
      "Instructions for updating:\n",
      "Use tf.compat.v1.graph_util.convert_variables_to_constants\n",
      "WARNING:tensorflow:From C:\\Anaconda3\\envs\\tensorflow\\lib\\site-packages\\tensorflow\\python\\framework\\graph_util_impl.py:245: extract_sub_graph (from tensorflow.python.framework.graph_util_impl) is deprecated and will be removed in a future version.\n",
      "Instructions for updating:\n",
      "Use tf.compat.v1.graph_util.extract_sub_graph\n",
      "INFO:tensorflow:Froze 22 variables.\n",
      "INFO:tensorflow:Converted 22 variables to const ops.\n"
     ]
    },
    {
     "data": {
      "text/plain": [
       "4893048"
      ]
     },
     "execution_count": 21,
     "metadata": {},
     "output_type": "execute_result"
    }
   ],
   "source": [
    "from tensorflow.contrib import lite\n",
    "converter = lite.TFLiteConverter.from_keras_model_file('models/m1/trans/trans_model.h5')\n",
    "tfmodel = converter.convert()\n",
    "open ('models/m1/trans/trans_model.tflite' , \"wb\") .write(tfmodel)"
   ]
  },
  {
   "cell_type": "code",
   "execution_count": null,
   "metadata": {},
   "outputs": [],
   "source": []
  }
 ],
 "metadata": {
  "kernelspec": {
   "display_name": "Python 3",
   "language": "python",
   "name": "python3"
  },
  "language_info": {
   "codemirror_mode": {
    "name": "ipython",
    "version": 3
   },
   "file_extension": ".py",
   "mimetype": "text/x-python",
   "name": "python",
   "nbconvert_exporter": "python",
   "pygments_lexer": "ipython3",
   "version": "3.5.6"
  }
 },
 "nbformat": 4,
 "nbformat_minor": 2
}
