{
 "cells": [
  {
   "cell_type": "code",
   "execution_count": 1,
   "metadata": {},
   "outputs": [
    {
     "name": "stderr",
     "output_type": "stream",
     "text": [
      "Using TensorFlow backend.\n"
     ]
    }
   ],
   "source": [
    "import tensorflow as tf\n",
    "import numpy as np\n",
    "import os\n",
    "import matplotlib.pyplot as plt\n",
    "import random as r\n",
    "import math\n",
    "import keras\n",
    "import cv2\n",
    "\n",
    "\n",
    "from PIL import Image\n",
    "from keras import layers\n",
    "from keras.models import Sequential\n",
    "from keras.layers import Dense,Dropout,Flatten,Conv2D,MaxPooling2D\n",
    "from keras.layers.normalization import BatchNormalization\n",
    "from keras.preprocessing import image\n",
    "from keras.utils import np_utils, plot_model"
   ]
  },
  {
   "cell_type": "code",
   "execution_count": 2,
   "metadata": {},
   "outputs": [],
   "source": [
    "def get_files(file_dir, train_size):\n",
    "\n",
    "    images = []   \n",
    "    subfolders = []\n",
    "    train_array = []\n",
    "    test_array = []\n",
    "    train_img_list = []\n",
    "    test_img_list = []\n",
    "    train_all_img = []\n",
    "    test_all_img = []\n",
    " \n",
    "    for dirPath, dirNames, fileNames in os.walk(file_dir):\n",
    "        \n",
    "        names = []\n",
    "        for name in fileNames:\n",
    "            names.append(os.path.join(dirPath, name))\n",
    "        for name in dirNames:\n",
    "            subfolders.append(os.path.join(dirPath, name))\n",
    "        r.shuffle(names)\n",
    "        if names != []:\n",
    "            images.append(names)\n",
    "\n",
    "    mincount = float(\"Inf\")\n",
    "    for num_folder in subfolders:\n",
    "        n_img = len(os.listdir(num_folder))\n",
    "        \n",
    "        if n_img < mincount:\n",
    "            mincount = n_img\n",
    "\n",
    "    for i in range(len(images)):\n",
    "        images[i] = images[i][0:mincount]\n",
    "        train_img_list.append([])\n",
    "        test_img_list.append([])\n",
    "        train_num = math.ceil(len(images[i]) * train_size)\n",
    "        train_img_list[i] = images[i][0:train_num]\n",
    "        test_img_list[i] = images[i][train_num:]\n",
    "\n",
    "    for i in range(len(images)):\n",
    "        train_all_img.extend(train_img_list[i])\n",
    "\n",
    "    for i in range(len(images)):\n",
    "        test_all_img.extend(test_img_list[i])\n",
    "\n",
    "    train_labels = []\n",
    "    test_labels = []\n",
    "    for count in range(len(subfolders)):\n",
    "        train_labels = np.append(train_labels, len(train_img_list[0]) * [count])\n",
    "        #print(len(train_labels))\n",
    "    for count in range(len(subfolders)):\n",
    "        test_labels = np.append(test_labels, len(test_img_list[0]) * [count])\n",
    "            \n",
    "    train_array = np.array([train_all_img, train_labels])\n",
    "    train_array = train_array[:, np.random.permutation(train_array.shape[1])].T\n",
    "    test_array = np.array([test_all_img, test_labels])\n",
    "    test_array = test_array[:, np.random.permutation(test_array.shape[1])].T\n",
    "    \n",
    "    train_img = list(train_array[:, 0])\n",
    "    train_labels = list(train_array[:, 1])\n",
    "    train_labels = [int(float(i)) for i in train_labels]\n",
    "    \n",
    "    test_img = list(test_array[:, 0])\n",
    "    test_labels = list(test_array[:, 1])\n",
    "    test_labels = [int(float(i)) for i in test_labels]\n",
    "    \n",
    "    # 返回图片路径列表和对应标签列表\n",
    "    return train_img, train_labels, test_img, test_labels"
   ]
  },
  {
   "cell_type": "code",
   "execution_count": 3,
   "metadata": {},
   "outputs": [],
   "source": [
    "# 轉Int64資料為 tf.train.Feature 格式\n",
    "def int64_feature(value):\n",
    "    if not isinstance(value, list):\n",
    "        value = [value]\n",
    "    return tf.train.Feature(int64_list=tf.train.Int64List(value=value))\n",
    "\n",
    "# 轉Bytes資料為 tf.train.Feature 格式\n",
    "def bytes_feature(value):\n",
    "    return tf.train.Feature(bytes_list=tf.train.BytesList(value=[value]))"
   ]
  },
  {
   "cell_type": "code",
   "execution_count": 4,
   "metadata": {},
   "outputs": [],
   "source": [
    "def convert_to_TFRecord(images, labels, name):\n",
    "    \n",
    "    filename = 'C:/SPLAB/NEW/filelog/jupyter/tfrecord/all/' + name + '.tfrecords'\n",
    "    \n",
    "    n_samples = len(labels)\n",
    "    if np.shape(images)[0] != n_samples:\n",
    "        raise ValueError('Images size {} does not match label size {}'.format(images.shape[0], n_samples))\n",
    "\n",
    "    writer = tf.python_io.TFRecordWriter(filename)       # TFRecordWriter class\n",
    "    print ('Convert to TFRecords...')\n",
    "    for i in np.arange(0, n_samples):\n",
    "        try:\n",
    "            \n",
    "            image = cv2.imread(images[i], 0)                # type(image) must be array\n",
    "            image_raw = image.tostring()                  # transform array to bytes\n",
    "            label = int(labels[i])\n",
    "\n",
    "            ftrs = tf.train.Features(\n",
    "                    feature={'Label': int64_feature(label),\n",
    "                             'image_raw': bytes_feature(image_raw)}\n",
    "                   )\n",
    "    \n",
    "            example = tf.train.Example(features=ftrs)\n",
    "            writer.write(example.SerializeToString())\n",
    "        except IOError as e:\n",
    "            print ('Could not read:{}'.format(images[i]))\n",
    "            print ('Skip it!')\n",
    "    writer.close()\n",
    "    print ('Done')"
   ]
  },
  {
   "cell_type": "code",
   "execution_count": 5,
   "metadata": {},
   "outputs": [
    {
     "name": "stdout",
     "output_type": "stream",
     "text": [
      "WARNING:tensorflow:From C:\\Anaconda3\\envs\\tensorflow\\lib\\site-packages\\tensorflow\\python\\framework\\op_def_library.py:263: colocate_with (from tensorflow.python.framework.ops) is deprecated and will be removed in a future version.\n",
      "Instructions for updating:\n",
      "Colocations handled automatically by placer.\n",
      "WARNING:tensorflow:From C:\\Anaconda3\\envs\\tensorflow\\lib\\site-packages\\keras\\backend\\tensorflow_backend.py:3445: calling dropout (from tensorflow.python.ops.nn_ops) with keep_prob is deprecated and will be removed in a future version.\n",
      "Instructions for updating:\n",
      "Please use `rate` instead of `keep_prob`. Rate should be set to `rate = 1 - keep_prob`.\n",
      "_________________________________________________________________\n",
      "Layer (type)                 Output Shape              Param #   \n",
      "=================================================================\n",
      "conv2d_1 (Conv2D)            (None, 3, 7, 40)          400       \n",
      "_________________________________________________________________\n",
      "batch_normalization_1 (Batch (None, 3, 7, 40)          160       \n",
      "_________________________________________________________________\n",
      "conv2d_2 (Conv2D)            (None, 3, 7, 80)          28880     \n",
      "_________________________________________________________________\n",
      "batch_normalization_2 (Batch (None, 3, 7, 80)          320       \n",
      "_________________________________________________________________\n",
      "conv2d_3 (Conv2D)            (None, 3, 7, 160)         115360    \n",
      "_________________________________________________________________\n",
      "batch_normalization_3 (Batch (None, 3, 7, 160)         640       \n",
      "_________________________________________________________________\n",
      "dropout_1 (Dropout)          (None, 3, 7, 160)         0         \n",
      "_________________________________________________________________\n",
      "flatten_1 (Flatten)          (None, 3360)              0         \n",
      "_________________________________________________________________\n",
      "dense_1 (Dense)              (None, 320)               1075520   \n",
      "_________________________________________________________________\n",
      "dense_2 (Dense)              (None, 5)                 1605      \n",
      "=================================================================\n",
      "Total params: 1,222,885\n",
      "Trainable params: 1,222,325\n",
      "Non-trainable params: 560\n",
      "_________________________________________________________________\n",
      "None\n"
     ]
    }
   ],
   "source": [
    "model = Sequential()\n",
    "#卷積層1\n",
    "model.add(Conv2D(filters=40,\n",
    "                 kernel_size=(3,3),\n",
    "                 padding='same',\n",
    "                 input_shape=(3,7,1), \n",
    "                 activation='relu'))\n",
    "model.add(BatchNormalization())\n",
    "#卷積層2\n",
    "model.add(Conv2D(filters=80,\n",
    "                 kernel_size=(3,3),\n",
    "                 padding='same',\n",
    "                 activation='relu'))\n",
    "model.add(BatchNormalization())\n",
    "#卷積層3\n",
    "model.add(Conv2D(filters=160,\n",
    "                 kernel_size=(3,3),\n",
    "                 padding='same',\n",
    "                 activation='relu'))\n",
    "model.add(BatchNormalization())\n",
    "\n",
    "model.add(Dropout(0.25))\n",
    "#平坦層\n",
    "model.add(Flatten())\n",
    "#全連接層\n",
    "model.add(Dense(320, activation='relu'))\n",
    "#輸出層\n",
    "model.add(Dense(5,activation='softmax'))\n",
    "\n",
    "print(model.summary())"
   ]
  },
  {
   "cell_type": "code",
   "execution_count": 6,
   "metadata": {
    "scrolled": true
   },
   "outputs": [
    {
     "name": "stdout",
     "output_type": "stream",
     "text": [
      "Convert to TFRecords...\n",
      "Done\n",
      "Convert to TFRecords...\n",
      "Done\n"
     ]
    }
   ],
   "source": [
    "file_dir = 'C:/SPLAB/NEW/7x3database'\n",
    "train_img, train_labels, test_img, test_labels = get_files(file_dir, train_size=0.9)\n",
    "\n",
    "TFRecord_list = ['train', 'test']\n",
    "img_labels_list = [[train_img, train_labels], [test_img, test_labels]]\n",
    "\n",
    "for index, TFRecord_name in enumerate(TFRecord_list):\n",
    "    convert_to_TFRecord(img_labels_list[index][0], img_labels_list[index][1],\n",
    "                        TFRecord_name)"
   ]
  },
  {
   "cell_type": "code",
   "execution_count": 7,
   "metadata": {},
   "outputs": [],
   "source": [
    "train_images = []\n",
    "for img in train_img:\n",
    "    img = Image.open(img)\n",
    "    img = image.img_to_array(img)\n",
    "    train_images.append(img)\n",
    "\n",
    "x_train = np.array(train_images)\n",
    "y_train = np.array(train_labels)"
   ]
  },
  {
   "cell_type": "code",
   "execution_count": 8,
   "metadata": {},
   "outputs": [],
   "source": [
    "test_images = []\n",
    "for img in test_img:\n",
    "    img = Image.open(img)\n",
    "    img = image.img_to_array(img)\n",
    "    test_images.append(img)\n",
    "\n",
    "x_test = np.array(test_images)\n",
    "y_test = np.array(test_labels)"
   ]
  },
  {
   "cell_type": "code",
   "execution_count": 9,
   "metadata": {},
   "outputs": [],
   "source": [
    "x_train /= 255\n",
    "x_test /= 255\n",
    "y_train_onehot = np_utils.to_categorical(y_train)\n",
    "y_test_onehot = np_utils.to_categorical(y_test)"
   ]
  },
  {
   "cell_type": "code",
   "execution_count": 10,
   "metadata": {},
   "outputs": [
    {
     "name": "stdout",
     "output_type": "stream",
     "text": [
      "WARNING:tensorflow:From C:\\Anaconda3\\envs\\tensorflow\\lib\\site-packages\\tensorflow\\python\\ops\\math_ops.py:3066: to_int32 (from tensorflow.python.ops.math_ops) is deprecated and will be removed in a future version.\n",
      "Instructions for updating:\n",
      "Use tf.cast instead.\n",
      "Train on 17059 samples, validate on 1896 samples\n",
      "Epoch 1/50\n",
      "17059/17059 [==============================] - 16s 951us/step - loss: 0.2498 - acc: 0.9315 - val_loss: 0.0907 - val_acc: 0.9726\n",
      "Epoch 2/50\n",
      "17059/17059 [==============================] - 15s 868us/step - loss: 0.0765 - acc: 0.9791 - val_loss: 0.0667 - val_acc: 0.9810\n",
      "Epoch 3/50\n",
      "17059/17059 [==============================] - 16s 931us/step - loss: 0.0519 - acc: 0.9860 - val_loss: 0.0517 - val_acc: 0.9836\n",
      "Epoch 4/50\n",
      "17059/17059 [==============================] - 18s 1ms/step - loss: 0.0402 - acc: 0.9896 - val_loss: 0.1162 - val_acc: 0.9715\n",
      "Epoch 5/50\n",
      "17059/17059 [==============================] - 17s 1ms/step - loss: 0.0473 - acc: 0.9872 - val_loss: 0.0612 - val_acc: 0.9847\n",
      "Epoch 6/50\n",
      "17059/17059 [==============================] - 17s 1ms/step - loss: 0.0361 - acc: 0.9905 - val_loss: 0.0507 - val_acc: 0.9821\n",
      "Epoch 7/50\n",
      "17059/17059 [==============================] - 18s 1ms/step - loss: 0.0289 - acc: 0.9918 - val_loss: 0.0935 - val_acc: 0.9720\n",
      "Epoch 8/50\n",
      "17059/17059 [==============================] - 18s 1ms/step - loss: 0.0249 - acc: 0.9936 - val_loss: 0.0384 - val_acc: 0.9895\n",
      "Epoch 9/50\n",
      "17059/17059 [==============================] - 18s 1ms/step - loss: 0.0167 - acc: 0.9962 - val_loss: 0.0329 - val_acc: 0.9931\n",
      "Epoch 10/50\n",
      "17059/17059 [==============================] - 18s 1ms/step - loss: 0.0221 - acc: 0.9933 - val_loss: 0.0537 - val_acc: 0.9884\n",
      "Epoch 11/50\n",
      "17059/17059 [==============================] - 18s 1ms/step - loss: 0.0304 - acc: 0.9914 - val_loss: 0.1620 - val_acc: 0.9678\n",
      "Epoch 12/50\n",
      "17059/17059 [==============================] - 18s 1ms/step - loss: 0.0363 - acc: 0.9899 - val_loss: 0.0849 - val_acc: 0.9810\n",
      "Epoch 13/50\n",
      "17059/17059 [==============================] - 18s 1ms/step - loss: 0.0260 - acc: 0.9924 - val_loss: 0.0493 - val_acc: 0.9879\n",
      "Epoch 14/50\n",
      "17059/17059 [==============================] - 18s 1ms/step - loss: 0.0192 - acc: 0.9947 - val_loss: 0.0956 - val_acc: 0.9689\n",
      "Epoch 15/50\n",
      "17059/17059 [==============================] - 18s 1ms/step - loss: 0.0155 - acc: 0.9960 - val_loss: 0.0513 - val_acc: 0.9905\n",
      "Epoch 16/50\n",
      "17059/17059 [==============================] - 18s 1ms/step - loss: 0.0155 - acc: 0.9961 - val_loss: 0.0377 - val_acc: 0.9916\n",
      "Epoch 17/50\n",
      "17059/17059 [==============================] - 18s 1ms/step - loss: 0.0261 - acc: 0.9936 - val_loss: 0.1723 - val_acc: 0.9583\n",
      "Epoch 18/50\n",
      "17059/17059 [==============================] - 18s 1ms/step - loss: 0.0236 - acc: 0.9930 - val_loss: 0.0578 - val_acc: 0.9873\n",
      "Epoch 19/50\n",
      "17059/17059 [==============================] - 18s 1ms/step - loss: 0.0188 - acc: 0.9949 - val_loss: 0.1633 - val_acc: 0.9478\n",
      "Epoch 20/50\n",
      "17059/17059 [==============================] - 18s 1ms/step - loss: 0.0193 - acc: 0.9945 - val_loss: 0.0584 - val_acc: 0.9836\n",
      "Epoch 21/50\n",
      "17059/17059 [==============================] - 18s 1ms/step - loss: 0.0193 - acc: 0.9948 - val_loss: 0.0461 - val_acc: 0.9900\n",
      "Epoch 22/50\n",
      "17059/17059 [==============================] - 18s 1ms/step - loss: 0.0079 - acc: 0.9978 - val_loss: 0.0366 - val_acc: 0.9921\n",
      "Epoch 23/50\n",
      "17059/17059 [==============================] - 18s 1ms/step - loss: 0.0052 - acc: 0.9985 - val_loss: 0.0344 - val_acc: 0.9937\n",
      "Epoch 24/50\n",
      "17059/17059 [==============================] - 18s 1ms/step - loss: 0.0068 - acc: 0.9982 - val_loss: 0.0378 - val_acc: 0.9900\n",
      "Epoch 25/50\n",
      "17059/17059 [==============================] - 18s 1ms/step - loss: 0.0072 - acc: 0.9979 - val_loss: 0.0427 - val_acc: 0.9921\n",
      "Epoch 26/50\n",
      "17059/17059 [==============================] - 18s 1ms/step - loss: 0.0059 - acc: 0.9986 - val_loss: 0.0397 - val_acc: 0.9937\n",
      "Epoch 27/50\n",
      "17059/17059 [==============================] - 18s 1ms/step - loss: 0.0223 - acc: 0.9937 - val_loss: 0.0919 - val_acc: 0.9805\n",
      "Epoch 28/50\n",
      "17059/17059 [==============================] - 18s 1ms/step - loss: 0.0305 - acc: 0.9928 - val_loss: 0.1000 - val_acc: 0.9800\n",
      "Epoch 29/50\n",
      "17059/17059 [==============================] - 19s 1ms/step - loss: 0.0252 - acc: 0.9938 - val_loss: 0.1091 - val_acc: 0.9826\n",
      "Epoch 30/50\n",
      "17059/17059 [==============================] - 18s 1ms/step - loss: 0.0140 - acc: 0.9959 - val_loss: 0.0357 - val_acc: 0.9937\n",
      "Epoch 31/50\n",
      "17059/17059 [==============================] - 18s 1ms/step - loss: 0.0085 - acc: 0.9975 - val_loss: 0.0330 - val_acc: 0.9942\n",
      "Epoch 32/50\n",
      "17059/17059 [==============================] - 18s 1ms/step - loss: 0.0102 - acc: 0.9972 - val_loss: 0.0496 - val_acc: 0.9900\n",
      "Epoch 33/50\n",
      "17059/17059 [==============================] - 18s 1ms/step - loss: 0.0069 - acc: 0.9982 - val_loss: 0.0438 - val_acc: 0.9916\n",
      "Epoch 34/50\n",
      "17059/17059 [==============================] - 18s 1ms/step - loss: 0.0038 - acc: 0.9990 - val_loss: 0.0377 - val_acc: 0.9910\n",
      "Epoch 35/50\n",
      "17059/17059 [==============================] - 18s 1ms/step - loss: 0.0028 - acc: 0.9994 - val_loss: 0.0370 - val_acc: 0.9921\n",
      "Epoch 36/50\n",
      "17059/17059 [==============================] - 18s 1ms/step - loss: 0.0034 - acc: 0.9992 - val_loss: 0.0499 - val_acc: 0.9921\n",
      "Epoch 37/50\n",
      "17059/17059 [==============================] - 18s 1ms/step - loss: 0.0056 - acc: 0.9985 - val_loss: 0.0449 - val_acc: 0.9931\n",
      "Epoch 38/50\n",
      "17059/17059 [==============================] - 18s 1ms/step - loss: 0.0095 - acc: 0.9979 - val_loss: 1.0094 - val_acc: 0.8808\n",
      "Epoch 39/50\n",
      "17059/17059 [==============================] - 18s 1ms/step - loss: 0.0299 - acc: 0.9926 - val_loss: 0.0526 - val_acc: 0.9900\n",
      "Epoch 40/50\n",
      "17059/17059 [==============================] - 18s 1ms/step - loss: 0.0079 - acc: 0.9978 - val_loss: 0.0453 - val_acc: 0.9931\n",
      "Epoch 41/50\n",
      "17059/17059 [==============================] - 18s 1ms/step - loss: 0.0052 - acc: 0.9982 - val_loss: 0.0531 - val_acc: 0.9910\n",
      "Epoch 42/50\n",
      "17059/17059 [==============================] - 19s 1ms/step - loss: 0.0083 - acc: 0.9976 - val_loss: 0.0358 - val_acc: 0.9937\n",
      "Epoch 43/50\n",
      "17059/17059 [==============================] - 19s 1ms/step - loss: 0.0057 - acc: 0.9985 - val_loss: 0.0580 - val_acc: 0.9910\n",
      "Epoch 44/50\n",
      "17059/17059 [==============================] - 18s 1ms/step - loss: 0.0205 - acc: 0.9947 - val_loss: 0.0896 - val_acc: 0.9821\n",
      "Epoch 45/50\n",
      "17059/17059 [==============================] - 18s 1ms/step - loss: 0.0093 - acc: 0.9975 - val_loss: 0.0578 - val_acc: 0.9879\n",
      "Epoch 46/50\n",
      "17059/17059 [==============================] - 18s 1ms/step - loss: 0.0071 - acc: 0.9981 - val_loss: 0.0385 - val_acc: 0.9931\n",
      "Epoch 47/50\n",
      "17059/17059 [==============================] - 18s 1ms/step - loss: 0.0082 - acc: 0.9978 - val_loss: 0.0434 - val_acc: 0.9926\n",
      "Epoch 48/50\n",
      "17059/17059 [==============================] - 18s 1ms/step - loss: 0.0036 - acc: 0.9992 - val_loss: 0.0363 - val_acc: 0.9937\n",
      "Epoch 49/50\n",
      "17059/17059 [==============================] - 19s 1ms/step - loss: 0.0054 - acc: 0.9988 - val_loss: 0.0497 - val_acc: 0.9931\n",
      "Epoch 50/50\n",
      "17059/17059 [==============================] - 18s 1ms/step - loss: 0.0066 - acc: 0.9984 - val_loss: 0.0409 - val_acc: 0.9931\n"
     ]
    }
   ],
   "source": [
    "#CNN training\n",
    "model.compile(loss='categorical_crossentropy',\n",
    "              optimizer='adam',metrics=['accuracy']) \n",
    "train_history=model.fit(x=x_train, \n",
    "                        y=y_train_onehot,validation_split=0.1, \n",
    "                        epochs=50, batch_size=64,verbose=1)"
   ]
  },
  {
   "cell_type": "code",
   "execution_count": 11,
   "metadata": {},
   "outputs": [
    {
     "data": {
      "image/png": "[encoded data removed]",
      "text/plain": [
       "<Figure size 432x288 with 1 Axes>"
      ]
     },
     "metadata": {
      "needs_background": "light"
     },
     "output_type": "display_data"
    },
    {
     "data": {
      "image/png": "[encoded data removed]",
      "text/plain": [
       "<Figure size 432x288 with 1 Axes>"
      ]
     },
     "metadata": {
      "needs_background": "light"
     },
     "output_type": "display_data"
    }
   ],
   "source": [
    "def show_train_history(train_history, title, train, validation):\n",
    "    plt.plot(train_history.history[train])\n",
    "    plt.plot(train_history.history[validation])\n",
    "    plt.title(title)\n",
    "    plt.ylabel(train)\n",
    "    plt.xlabel('Epoch')\n",
    "    plt.legend(['train', 'validation'], loc = 'upper left')\n",
    "    plt.show()\n",
    "\n",
    "show_train_history(train_history, 'Accuracy', 'acc', 'val_acc')\n",
    "show_train_history(train_history, 'Loss', 'loss', 'val_loss')"
   ]
  },
  {
   "cell_type": "code",
   "execution_count": 12,
   "metadata": {
    "scrolled": true
   },
   "outputs": [
    {
     "name": "stdout",
     "output_type": "stream",
     "text": [
      "2105/2105 [==============================] - 0s 185us/step\n",
      "\n",
      "accuracy= 0.9938242280285036\n"
     ]
    }
   ],
   "source": [
    "scores = model.evaluate(x_test,y_test_onehot)\n",
    "print()\n",
    "print('accuracy=',scores[1])"
   ]
  },
  {
   "cell_type": "code",
   "execution_count": 14,
   "metadata": {},
   "outputs": [
    {
     "data": {
      "text/html": [
       "<div>\n",
       "<style scoped>\n",
       "    .dataframe tbody tr th:only-of-type {\n",
       "        vertical-align: middle;\n",
       "    }\n",
       "\n",
       "    .dataframe tbody tr th {\n",
       "        vertical-align: top;\n",
       "    }\n",
       "\n",
       "    .dataframe thead th {\n",
       "        text-align: right;\n",
       "    }\n",
       "</style>\n",
       "<table border=\"1\" class=\"dataframe\">\n",
       "  <thead>\n",
       "    <tr style=\"text-align: right;\">\n",
       "      <th>predict</th>\n",
       "      <th>0</th>\n",
       "      <th>1</th>\n",
       "      <th>2</th>\n",
       "      <th>3</th>\n",
       "      <th>4</th>\n",
       "    </tr>\n",
       "    <tr>\n",
       "      <th>label</th>\n",
       "      <th></th>\n",
       "      <th></th>\n",
       "      <th></th>\n",
       "      <th></th>\n",
       "      <th></th>\n",
       "    </tr>\n",
       "  </thead>\n",
       "  <tbody>\n",
       "    <tr>\n",
       "      <th>0</th>\n",
       "      <td>421</td>\n",
       "      <td>0</td>\n",
       "      <td>0</td>\n",
       "      <td>0</td>\n",
       "      <td>0</td>\n",
       "    </tr>\n",
       "    <tr>\n",
       "      <th>1</th>\n",
       "      <td>0</td>\n",
       "      <td>419</td>\n",
       "      <td>1</td>\n",
       "      <td>0</td>\n",
       "      <td>1</td>\n",
       "    </tr>\n",
       "    <tr>\n",
       "      <th>2</th>\n",
       "      <td>1</td>\n",
       "      <td>1</td>\n",
       "      <td>416</td>\n",
       "      <td>0</td>\n",
       "      <td>3</td>\n",
       "    </tr>\n",
       "    <tr>\n",
       "      <th>3</th>\n",
       "      <td>0</td>\n",
       "      <td>2</td>\n",
       "      <td>4</td>\n",
       "      <td>415</td>\n",
       "      <td>0</td>\n",
       "    </tr>\n",
       "    <tr>\n",
       "      <th>4</th>\n",
       "      <td>0</td>\n",
       "      <td>0</td>\n",
       "      <td>0</td>\n",
       "      <td>0</td>\n",
       "      <td>421</td>\n",
       "    </tr>\n",
       "  </tbody>\n",
       "</table>\n",
       "</div>"
      ],
      "text/plain": [
       "predict    0    1    2    3    4\n",
       "label                           \n",
       "0        421    0    0    0    0\n",
       "1          0  419    1    0    1\n",
       "2          1    1  416    0    3\n",
       "3          0    2    4  415    0\n",
       "4          0    0    0    0  421"
      ]
     },
     "execution_count": 14,
     "metadata": {},
     "output_type": "execute_result"
    }
   ],
   "source": [
    "import pandas as pd\n",
    "prediction = model.predict_classes(x_test)\n",
    "pd.crosstab(y_test, prediction, rownames=['label'], colnames=['predict'])"
   ]
  },
  {
   "cell_type": "code",
   "execution_count": 15,
   "metadata": {},
   "outputs": [],
   "source": [
    "model.save('C:/SPLAB/NEW/filelog/jupyter/log1/model.h5')"
   ]
  },
  {
   "cell_type": "code",
   "execution_count": 17,
   "metadata": {},
   "outputs": [
    {
     "name": "stdout",
     "output_type": "stream",
     "text": [
      "INFO:tensorflow:Froze 22 variables.\n",
      "INFO:tensorflow:Converted 22 variables to const ops.\n"
     ]
    },
    {
     "data": {
      "text/plain": [
       "4893048"
      ]
     },
     "execution_count": 17,
     "metadata": {},
     "output_type": "execute_result"
    }
   ],
   "source": [
    "from tensorflow.contrib import lite\n",
    "converter = lite.TFLiteConverter.from_keras_model_file('C:/SPLAB/NEW/filelog/jupyter/log1/model.h5')\n",
    "tfmodel = converter.convert()\n",
    "open ('C:/SPLAB/NEW/filelog/jupyter/log1/model.tflite' , \"wb\") .write(tfmodel)"
   ]
  },
  {
   "cell_type": "code",
   "execution_count": null,
   "metadata": {},
   "outputs": [],
   "source": []
  }
 ],
 "metadata": {
  "kernelspec": {
   "display_name": "Python 3",
   "language": "python",
   "name": "python3"
  },
  "language_info": {
   "codemirror_mode": {
    "name": "ipython",
    "version": 3
   },
   "file_extension": ".py",
   "mimetype": "text/x-python",
   "name": "python",
   "nbconvert_exporter": "python",
   "pygments_lexer": "ipython3",
   "version": "3.5.6"
  }
 },
 "nbformat": 4,
 "nbformat_minor": 2
}
