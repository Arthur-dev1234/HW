{
 "cells": [
  {
   "cell_type": "code",
   "execution_count": 1,
   "metadata": {},
   "outputs": [
    {
     "name": "stderr",
     "output_type": "stream",
     "text": [
      "Using TensorFlow backend.\n"
     ]
    }
   ],
   "source": [
    "import tensorflow as tf\n",
    "import numpy as np\n",
    "import os\n",
    "import matplotlib.pyplot as plt\n",
    "import random as r\n",
    "import math\n",
    "import keras\n",
    "import cv2\n",
    "\n",
    "\n",
    "from PIL import Image\n",
    "from keras import layers\n",
    "from keras.models import Sequential\n",
    "from keras.layers import Dense,Dropout,Flatten,Conv2D,MaxPooling2D\n",
    "from keras.layers.normalization import BatchNormalization\n",
    "from keras.preprocessing import image\n",
    "from keras.utils import np_utils, plot_model\n",
    "\n",
    "import warnings\n",
    "warnings.filterwarnings('ignore')"
   ]
  },
  {
   "cell_type": "code",
   "execution_count": 2,
   "metadata": {},
   "outputs": [],
   "source": [
    "def get_files(file_dir, train_size):\n",
    "\n",
    "    images = []   \n",
    "    subfolders = []\n",
    "    train_array = []\n",
    "    test_array = []\n",
    "    train_img_list = []\n",
    "    test_img_list = []\n",
    "    train_all_img = []\n",
    "    test_all_img = []\n",
    " \n",
    "    for dirPath, dirNames, fileNames in os.walk(file_dir):\n",
    "        \n",
    "        names = []\n",
    "        for name in fileNames:\n",
    "            names.append(os.path.join(dirPath, name))\n",
    "        for name in dirNames:\n",
    "            subfolders.append(os.path.join(dirPath, name))\n",
    "        r.shuffle(names)\n",
    "        if names != []:\n",
    "            images.append(names)\n",
    "\n",
    "    mincount = float(\"Inf\")\n",
    "    for num_folder in subfolders:\n",
    "        n_img = len(os.listdir(num_folder))\n",
    "        \n",
    "        if n_img < mincount:\n",
    "            mincount = n_img\n",
    "\n",
    "    for i in range(len(images)):\n",
    "        images[i] = images[i][0:mincount]\n",
    "        train_img_list.append([])\n",
    "        test_img_list.append([])\n",
    "        train_num = math.ceil(len(images[i]) * train_size)\n",
    "        train_img_list[i] = images[i][0:train_num]\n",
    "        test_img_list[i] = images[i][train_num:]\n",
    "\n",
    "    for i in range(len(images)):\n",
    "        train_all_img.extend(train_img_list[i])\n",
    "\n",
    "    for i in range(len(images)):\n",
    "        test_all_img.extend(test_img_list[i])\n",
    "\n",
    "    train_labels = []\n",
    "    test_labels = []\n",
    "    for count in range(len(subfolders)):\n",
    "        train_labels = np.append(train_labels, len(train_img_list[0]) * [count])\n",
    "        #print(len(train_labels))\n",
    "    for count in range(len(subfolders)):\n",
    "        test_labels = np.append(test_labels, len(test_img_list[0]) * [count])\n",
    "            \n",
    "    train_array = np.array([train_all_img, train_labels])\n",
    "    train_array = train_array[:, np.random.permutation(train_array.shape[1])].T\n",
    "    test_array = np.array([test_all_img, test_labels])\n",
    "    test_array = test_array[:, np.random.permutation(test_array.shape[1])].T\n",
    "    \n",
    "    train_img = list(train_array[:, 0])\n",
    "    train_labels = list(train_array[:, 1])\n",
    "    train_labels = [int(float(i)) for i in train_labels]\n",
    "    \n",
    "    test_img = list(test_array[:, 0])\n",
    "    test_labels = list(test_array[:, 1])\n",
    "    test_labels = [int(float(i)) for i in test_labels]\n",
    "    \n",
    "    # 返回图片路径列表和对应标签列表\n",
    "    return train_img, train_labels, test_img, test_labels"
   ]
  },
  {
   "cell_type": "code",
   "execution_count": 3,
   "metadata": {},
   "outputs": [],
   "source": [
    "# 轉Int64資料為 tf.train.Feature 格式\n",
    "def int64_feature(value):\n",
    "    if not isinstance(value, list):\n",
    "        value = [value]\n",
    "    return tf.train.Feature(int64_list=tf.train.Int64List(value=value))\n",
    "\n",
    "# 轉Bytes資料為 tf.train.Feature 格式\n",
    "def bytes_feature(value):\n",
    "    return tf.train.Feature(bytes_list=tf.train.BytesList(value=[value]))"
   ]
  },
  {
   "cell_type": "code",
   "execution_count": 4,
   "metadata": {},
   "outputs": [],
   "source": [
    "def convert_to_TFRecord(images, labels, name):\n",
    "    \n",
    "    filename = 'tfrecord/all/' + name + '.tfrecords'\n",
    "    \n",
    "    n_samples = len(labels)\n",
    "    if np.shape(images)[0] != n_samples:\n",
    "        raise ValueError('Images size {} does not match label size {}'.format(images.shape[0], n_samples))\n",
    "\n",
    "    writer = tf.python_io.TFRecordWriter(filename)       # TFRecordWriter class\n",
    "    print ('Convert to TFRecords...')\n",
    "    for i in np.arange(0, n_samples):\n",
    "        try:\n",
    "            \n",
    "            image = cv2.imread(images[i], 0)                # type(image) must be array\n",
    "            image_raw = image.tostring()                  # transform array to bytes\n",
    "            label = int(labels[i])\n",
    "\n",
    "            ftrs = tf.train.Features(\n",
    "                    feature={'Label': int64_feature(label),\n",
    "                             'image_raw': bytes_feature(image_raw)}\n",
    "                   )\n",
    "    \n",
    "            example = tf.train.Example(features=ftrs)\n",
    "            writer.write(example.SerializeToString())\n",
    "        except IOError as e:\n",
    "            print ('Could not read:{}'.format(images[i]))\n",
    "            print ('Skip it!')\n",
    "    writer.close()\n",
    "    print ('Done')"
   ]
  },
  {
   "cell_type": "code",
   "execution_count": 5,
   "metadata": {},
   "outputs": [
    {
     "name": "stdout",
     "output_type": "stream",
     "text": [
      "WARNING:tensorflow:From C:\\Anaconda3\\envs\\tensorflow\\lib\\site-packages\\tensorflow\\python\\framework\\op_def_library.py:263: colocate_with (from tensorflow.python.framework.ops) is deprecated and will be removed in a future version.\n",
      "Instructions for updating:\n",
      "Colocations handled automatically by placer.\n",
      "WARNING:tensorflow:From C:\\Anaconda3\\envs\\tensorflow\\lib\\site-packages\\keras\\backend\\tensorflow_backend.py:3445: calling dropout (from tensorflow.python.ops.nn_ops) with keep_prob is deprecated and will be removed in a future version.\n",
      "Instructions for updating:\n",
      "Please use `rate` instead of `keep_prob`. Rate should be set to `rate = 1 - keep_prob`.\n",
      "_________________________________________________________________\n",
      "Layer (type)                 Output Shape              Param #   \n",
      "=================================================================\n",
      "conv_1 (Conv2D)              (None, 3, 7, 40)          400       \n",
      "_________________________________________________________________\n",
      "bn_1 (BatchNormalization)    (None, 3, 7, 40)          160       \n",
      "_________________________________________________________________\n",
      "conv_2 (Conv2D)              (None, 3, 7, 80)          28880     \n",
      "_________________________________________________________________\n",
      "bn_2 (BatchNormalization)    (None, 3, 7, 80)          320       \n",
      "_________________________________________________________________\n",
      "conv_3 (Conv2D)              (None, 3, 7, 160)         115360    \n",
      "_________________________________________________________________\n",
      "bn_3 (BatchNormalization)    (None, 3, 7, 160)         640       \n",
      "_________________________________________________________________\n",
      "DP (Dropout)                 (None, 3, 7, 160)         0         \n",
      "_________________________________________________________________\n",
      "Flat (Flatten)               (None, 3360)              0         \n",
      "_________________________________________________________________\n",
      "dense_1 (Dense)              (None, 320)               1075520   \n",
      "_________________________________________________________________\n",
      "dense_2 (Dense)              (None, 5)                 1605      \n",
      "=================================================================\n",
      "Total params: 1,222,885\n",
      "Trainable params: 1,222,325\n",
      "Non-trainable params: 560\n",
      "_________________________________________________________________\n",
      "None\n"
     ]
    }
   ],
   "source": [
    "model = Sequential()\n",
    "#卷積層1\n",
    "model.add(Conv2D(filters=40,\n",
    "                 kernel_size=(3,3),\n",
    "                 padding='same',\n",
    "                 input_shape=(3,7,1), \n",
    "                 activation='relu', name = \"conv_1\"))\n",
    "model.add(BatchNormalization(name = \"bn_1\"))\n",
    "#卷積層2\n",
    "model.add(Conv2D(filters=80,\n",
    "                 kernel_size=(3,3),\n",
    "                 padding='same',\n",
    "                 activation='relu', name = \"conv_2\"))\n",
    "model.add(BatchNormalization(name = \"bn_2\"))\n",
    "#卷積層3\n",
    "model.add(Conv2D(filters=160,\n",
    "                 kernel_size=(3,3),\n",
    "                 padding='same',\n",
    "                 activation='relu', name = \"conv_3\"))\n",
    "model.add(BatchNormalization(name = \"bn_3\"))\n",
    "\n",
    "model.add(Dropout(0.25, name = \"DP\"))\n",
    "#平坦層\n",
    "model.add(Flatten(name = \"Flat\"))\n",
    "#全連接層\n",
    "model.add(Dense(320, activation='relu', name = \"dense_1\"))\n",
    "#輸出層\n",
    "model.add(Dense(5,activation='softmax', name = \"dense_2\"))\n",
    "\n",
    "print(model.summary())"
   ]
  },
  {
   "cell_type": "code",
   "execution_count": 6,
   "metadata": {
    "scrolled": true
   },
   "outputs": [
    {
     "name": "stdout",
     "output_type": "stream",
     "text": [
      "Convert to TFRecords...\n",
      "Done\n",
      "Convert to TFRecords...\n",
      "Done\n"
     ]
    }
   ],
   "source": [
    "file_dir = '7x3database'\n",
    "train_img, train_labels, test_img, test_labels = get_files(file_dir, train_size=0.9)\n",
    "\n",
    "TFRecord_list = ['train', 'test']\n",
    "img_labels_list = [[train_img, train_labels], [test_img, test_labels]]\n",
    "\n",
    "for index, TFRecord_name in enumerate(TFRecord_list):\n",
    "    convert_to_TFRecord(img_labels_list[index][0], img_labels_list[index][1],\n",
    "                        TFRecord_name)"
   ]
  },
  {
   "cell_type": "code",
   "execution_count": 7,
   "metadata": {},
   "outputs": [],
   "source": [
    "train_images = []\n",
    "for img in train_img:\n",
    "    img = Image.open(img)\n",
    "    img = image.img_to_array(img)\n",
    "    train_images.append(img)\n",
    "\n",
    "x_train = np.array(train_images)\n",
    "y_train = np.array(train_labels)"
   ]
  },
  {
   "cell_type": "code",
   "execution_count": 8,
   "metadata": {},
   "outputs": [],
   "source": [
    "test_images = []\n",
    "for img in test_img:\n",
    "    img = Image.open(img)\n",
    "    img = image.img_to_array(img)\n",
    "    test_images.append(img)\n",
    "\n",
    "x_test = np.array(test_images)\n",
    "y_test = np.array(test_labels)"
   ]
  },
  {
   "cell_type": "code",
   "execution_count": 9,
   "metadata": {},
   "outputs": [],
   "source": [
    "x_train /= 255\n",
    "x_test /= 255\n",
    "y_train_onehot = np_utils.to_categorical(y_train)\n",
    "y_test_onehot = np_utils.to_categorical(y_test)"
   ]
  },
  {
   "cell_type": "code",
   "execution_count": 10,
   "metadata": {
    "scrolled": true
   },
   "outputs": [
    {
     "name": "stdout",
     "output_type": "stream",
     "text": [
      "WARNING:tensorflow:From C:\\Anaconda3\\envs\\tensorflow\\lib\\site-packages\\tensorflow\\python\\ops\\math_ops.py:3066: to_int32 (from tensorflow.python.ops.math_ops) is deprecated and will be removed in a future version.\n",
      "Instructions for updating:\n",
      "Use tf.cast instead.\n",
      "Train on 17059 samples, validate on 1896 samples\n",
      "Epoch 1/50\n",
      "17059/17059 [==============================] - 16s 922us/step - loss: 0.2123 - acc: 0.9401 - val_loss: 0.1408 - val_acc: 0.9504\n",
      "Epoch 2/50\n",
      "17059/17059 [==============================] - 16s 935us/step - loss: 0.0767 - acc: 0.9787 - val_loss: 0.0856 - val_acc: 0.9726\n",
      "Epoch 3/50\n",
      "17059/17059 [==============================] - 16s 922us/step - loss: 0.0557 - acc: 0.9868 - val_loss: 0.1067 - val_acc: 0.9636\n",
      "Epoch 4/50\n",
      "17059/17059 [==============================] - 16s 943us/step - loss: 0.0419 - acc: 0.9883 - val_loss: 0.0373 - val_acc: 0.9879\n",
      "Epoch 5/50\n",
      "17059/17059 [==============================] - 16s 918us/step - loss: 0.0420 - acc: 0.9882 - val_loss: 0.0651 - val_acc: 0.9778\n",
      "Epoch 6/50\n",
      "17059/17059 [==============================] - 16s 918us/step - loss: 0.0337 - acc: 0.9902 - val_loss: 0.0216 - val_acc: 0.9942\n",
      "Epoch 7/50\n",
      "17059/17059 [==============================] - 16s 966us/step - loss: 0.0207 - acc: 0.9947 - val_loss: 0.0341 - val_acc: 0.9921\n",
      "Epoch 8/50\n",
      "17059/17059 [==============================] - 18s 1ms/step - loss: 0.0252 - acc: 0.9933 - val_loss: 0.0485 - val_acc: 0.9858\n",
      "Epoch 9/50\n",
      "17059/17059 [==============================] - 17s 990us/step - loss: 0.0358 - acc: 0.9904 - val_loss: 0.0462 - val_acc: 0.9868\n",
      "Epoch 10/50\n",
      "17059/17059 [==============================] - 18s 1ms/step - loss: 0.0339 - acc: 0.9905 - val_loss: 0.0427 - val_acc: 0.9921\n",
      "Epoch 11/50\n",
      "17059/17059 [==============================] - 17s 985us/step - loss: 0.0182 - acc: 0.9953 - val_loss: 0.0271 - val_acc: 0.9947\n",
      "Epoch 12/50\n",
      "17059/17059 [==============================] - 16s 955us/step - loss: 0.0274 - acc: 0.9935 - val_loss: 0.0378 - val_acc: 0.9953\n",
      "Epoch 13/50\n",
      "17059/17059 [==============================] - 17s 967us/step - loss: 0.0173 - acc: 0.9951 - val_loss: 0.0367 - val_acc: 0.9926\n",
      "Epoch 14/50\n",
      "17059/17059 [==============================] - 16s 958us/step - loss: 0.0295 - acc: 0.9931 - val_loss: 0.2295 - val_acc: 0.9251\n",
      "Epoch 15/50\n",
      "17059/17059 [==============================] - 17s 981us/step - loss: 0.0204 - acc: 0.9944 - val_loss: 0.0532 - val_acc: 0.9836\n",
      "Epoch 16/50\n",
      "17059/17059 [==============================] - 17s 983us/step - loss: 0.0138 - acc: 0.9960 - val_loss: 0.0383 - val_acc: 0.9931\n",
      "Epoch 17/50\n",
      "17059/17059 [==============================] - 18s 1ms/step - loss: 0.0076 - acc: 0.9979 - val_loss: 0.0493 - val_acc: 0.9926\n",
      "Epoch 18/50\n",
      "17059/17059 [==============================] - 17s 1ms/step - loss: 0.0100 - acc: 0.9972 - val_loss: 0.0501 - val_acc: 0.9921\n",
      "Epoch 19/50\n",
      "17059/17059 [==============================] - 17s 1ms/step - loss: 0.0145 - acc: 0.9958 - val_loss: 0.0366 - val_acc: 0.9926\n",
      "Epoch 20/50\n",
      "17059/17059 [==============================] - 18s 1ms/step - loss: 0.0293 - acc: 0.9925 - val_loss: 0.0341 - val_acc: 0.9921\n",
      "Epoch 21/50\n",
      "17059/17059 [==============================] - 17s 971us/step - loss: 0.0174 - acc: 0.9954 - val_loss: 0.1646 - val_acc: 0.9620\n",
      "Epoch 22/50\n",
      "17059/17059 [==============================] - 17s 999us/step - loss: 0.0265 - acc: 0.9934 - val_loss: 0.0224 - val_acc: 0.9942\n",
      "Epoch 23/50\n",
      "17059/17059 [==============================] - 18s 1ms/step - loss: 0.0099 - acc: 0.9975 - val_loss: 0.0367 - val_acc: 0.9926\n",
      "Epoch 24/50\n",
      "17059/17059 [==============================] - 18s 1ms/step - loss: 0.0075 - acc: 0.9978 - val_loss: 0.0477 - val_acc: 0.9921\n",
      "Epoch 25/50\n",
      "17059/17059 [==============================] - 17s 989us/step - loss: 0.0176 - acc: 0.9955 - val_loss: 0.0641 - val_acc: 0.9910\n",
      "Epoch 26/50\n",
      "17059/17059 [==============================] - 18s 1ms/step - loss: 0.0161 - acc: 0.9961 - val_loss: 0.0339 - val_acc: 0.9953\n",
      "Epoch 27/50\n",
      "17059/17059 [==============================] - 18s 1ms/step - loss: 0.0142 - acc: 0.9955 - val_loss: 0.0329 - val_acc: 0.9947\n",
      "Epoch 28/50\n",
      "17059/17059 [==============================] - 17s 977us/step - loss: 0.0156 - acc: 0.9962 - val_loss: 0.1340 - val_acc: 0.9341\n",
      "Epoch 29/50\n",
      "17059/17059 [==============================] - 16s 939us/step - loss: 0.0083 - acc: 0.9977 - val_loss: 0.0555 - val_acc: 0.9910\n",
      "Epoch 30/50\n",
      "17059/17059 [==============================] - 16s 947us/step - loss: 0.0151 - acc: 0.9958 - val_loss: 0.0395 - val_acc: 0.9916\n",
      "Epoch 31/50\n",
      "17059/17059 [==============================] - 16s 951us/step - loss: 0.0121 - acc: 0.9970 - val_loss: 0.0347 - val_acc: 0.9942\n",
      "Epoch 32/50\n",
      "17059/17059 [==============================] - 16s 950us/step - loss: 0.0131 - acc: 0.9961 - val_loss: 0.0394 - val_acc: 0.9931\n",
      "Epoch 33/50\n",
      "17059/17059 [==============================] - 18s 1ms/step - loss: 0.0193 - acc: 0.9961 - val_loss: 0.0624 - val_acc: 0.9863\n",
      "Epoch 34/50\n",
      "17059/17059 [==============================] - 18s 1ms/step - loss: 0.0067 - acc: 0.9979 - val_loss: 0.0338 - val_acc: 0.9953\n",
      "Epoch 35/50\n",
      "17059/17059 [==============================] - 17s 1ms/step - loss: 0.0061 - acc: 0.9988 - val_loss: 0.0340 - val_acc: 0.9953\n",
      "Epoch 36/50\n",
      "17059/17059 [==============================] - 17s 1ms/step - loss: 0.0058 - acc: 0.9986 - val_loss: 0.0339 - val_acc: 0.9963\n",
      "Epoch 37/50\n",
      "17059/17059 [==============================] - 17s 1ms/step - loss: 0.0046 - acc: 0.9987 - val_loss: 0.0496 - val_acc: 0.9937\n",
      "Epoch 38/50\n",
      "17059/17059 [==============================] - 17s 976us/step - loss: 0.0024 - acc: 0.9993 - val_loss: 0.0362 - val_acc: 0.9958\n",
      "Epoch 39/50\n",
      "17059/17059 [==============================] - 18s 1ms/step - loss: 0.0031 - acc: 0.9992 - val_loss: 0.0384 - val_acc: 0.9963\n",
      "Epoch 40/50\n",
      "17059/17059 [==============================] - 16s 953us/step - loss: 0.0019 - acc: 0.9995 - val_loss: 0.0456 - val_acc: 0.9947\n",
      "Epoch 41/50\n",
      "17059/17059 [==============================] - 16s 947us/step - loss: 0.0083 - acc: 0.9988 - val_loss: 0.0899 - val_acc: 0.9889\n",
      "Epoch 42/50\n",
      "17059/17059 [==============================] - 17s 1ms/step - loss: 0.0515 - acc: 0.9910 - val_loss: 0.0645 - val_acc: 0.9900\n",
      "Epoch 43/50\n",
      "17059/17059 [==============================] - 20s 1ms/step - loss: 0.0080 - acc: 0.9981 - val_loss: 0.0315 - val_acc: 0.9958\n",
      "Epoch 44/50\n",
      "17059/17059 [==============================] - 17s 979us/step - loss: 0.0045 - acc: 0.9987 - val_loss: 0.0322 - val_acc: 0.9942\n",
      "Epoch 45/50\n",
      "17059/17059 [==============================] - 17s 980us/step - loss: 0.0159 - acc: 0.9971 - val_loss: 0.0499 - val_acc: 0.9931\n",
      "Epoch 46/50\n",
      "17059/17059 [==============================] - 19s 1ms/step - loss: 0.0052 - acc: 0.9987 - val_loss: 0.0570 - val_acc: 0.9931\n",
      "Epoch 47/50\n",
      "17059/17059 [==============================] - 20s 1ms/step - loss: 0.0104 - acc: 0.9979 - val_loss: 0.0622 - val_acc: 0.9937\n",
      "Epoch 48/50\n",
      "17059/17059 [==============================] - 17s 989us/step - loss: 0.0226 - acc: 0.9951 - val_loss: 0.0475 - val_acc: 0.9916\n",
      "Epoch 49/50\n",
      "17059/17059 [==============================] - 17s 984us/step - loss: 0.0131 - acc: 0.9971 - val_loss: 0.0411 - val_acc: 0.9947\n",
      "Epoch 50/50\n",
      "17059/17059 [==============================] - 17s 1ms/step - loss: 0.0099 - acc: 0.9975 - val_loss: 0.0384 - val_acc: 0.9963\n"
     ]
    }
   ],
   "source": [
    "#CNN training\n",
    "model.compile(loss='categorical_crossentropy',\n",
    "              optimizer='adam',metrics=['accuracy']) \n",
    "train_history=model.fit(x=x_train, \n",
    "                        y=y_train_onehot,validation_split=0.1, \n",
    "                        epochs=50, batch_size=64,verbose=1)"
   ]
  },
  {
   "cell_type": "code",
   "execution_count": 11,
   "metadata": {},
   "outputs": [
    {
     "data": {
      "image/png": "[encoded data removed]",
      "text/plain": [
       "<Figure size 432x288 with 1 Axes>"
      ]
     },
     "metadata": {
      "needs_background": "light"
     },
     "output_type": "display_data"
    },
    {
     "data": {
      "image/png": "[encoded data removed]",
      "text/plain": [
       "<Figure size 432x288 with 1 Axes>"
      ]
     },
     "metadata": {
      "needs_background": "light"
     },
     "output_type": "display_data"
    }
   ],
   "source": [
    "def show_train_history(train_history, title, train, validation):\n",
    "    plt.plot(train_history.history[train])\n",
    "    plt.plot(train_history.history[validation])\n",
    "    plt.title(title)\n",
    "    plt.ylabel(train)\n",
    "    plt.xlabel('Epoch')\n",
    "    plt.legend(['train', 'validation'], loc = 'upper left')\n",
    "    plt.show()\n",
    "\n",
    "show_train_history(train_history, 'Accuracy', 'acc', 'val_acc')\n",
    "show_train_history(train_history, 'Loss', 'loss', 'val_loss')"
   ]
  },
  {
   "cell_type": "code",
   "execution_count": 12,
   "metadata": {
    "scrolled": true
   },
   "outputs": [
    {
     "name": "stdout",
     "output_type": "stream",
     "text": [
      "2105/2105 [==============================] - 0s 229us/step\n",
      "\n",
      "accuracy= 0.995249406175772\n"
     ]
    }
   ],
   "source": [
    "scores = model.evaluate(x_test,y_test_onehot)\n",
    "print()\n",
    "print('accuracy=',scores[1])"
   ]
  },
  {
   "cell_type": "code",
   "execution_count": 13,
   "metadata": {},
   "outputs": [
    {
     "data": {
      "text/html": [
       "<div>\n",
       "<style scoped>\n",
       "    .dataframe tbody tr th:only-of-type {\n",
       "        vertical-align: middle;\n",
       "    }\n",
       "\n",
       "    .dataframe tbody tr th {\n",
       "        vertical-align: top;\n",
       "    }\n",
       "\n",
       "    .dataframe thead th {\n",
       "        text-align: right;\n",
       "    }\n",
       "</style>\n",
       "<table border=\"1\" class=\"dataframe\">\n",
       "  <thead>\n",
       "    <tr style=\"text-align: right;\">\n",
       "      <th>predict</th>\n",
       "      <th>0</th>\n",
       "      <th>1</th>\n",
       "      <th>2</th>\n",
       "      <th>3</th>\n",
       "      <th>4</th>\n",
       "    </tr>\n",
       "    <tr>\n",
       "      <th>label</th>\n",
       "      <th></th>\n",
       "      <th></th>\n",
       "      <th></th>\n",
       "      <th></th>\n",
       "      <th></th>\n",
       "    </tr>\n",
       "  </thead>\n",
       "  <tbody>\n",
       "    <tr>\n",
       "      <th>0</th>\n",
       "      <td>420</td>\n",
       "      <td>1</td>\n",
       "      <td>0</td>\n",
       "      <td>0</td>\n",
       "      <td>0</td>\n",
       "    </tr>\n",
       "    <tr>\n",
       "      <th>1</th>\n",
       "      <td>0</td>\n",
       "      <td>420</td>\n",
       "      <td>1</td>\n",
       "      <td>0</td>\n",
       "      <td>0</td>\n",
       "    </tr>\n",
       "    <tr>\n",
       "      <th>2</th>\n",
       "      <td>0</td>\n",
       "      <td>0</td>\n",
       "      <td>419</td>\n",
       "      <td>0</td>\n",
       "      <td>2</td>\n",
       "    </tr>\n",
       "    <tr>\n",
       "      <th>3</th>\n",
       "      <td>0</td>\n",
       "      <td>1</td>\n",
       "      <td>3</td>\n",
       "      <td>415</td>\n",
       "      <td>2</td>\n",
       "    </tr>\n",
       "    <tr>\n",
       "      <th>4</th>\n",
       "      <td>0</td>\n",
       "      <td>0</td>\n",
       "      <td>0</td>\n",
       "      <td>0</td>\n",
       "      <td>421</td>\n",
       "    </tr>\n",
       "  </tbody>\n",
       "</table>\n",
       "</div>"
      ],
      "text/plain": [
       "predict    0    1    2    3    4\n",
       "label                           \n",
       "0        420    1    0    0    0\n",
       "1          0  420    1    0    0\n",
       "2          0    0  419    0    2\n",
       "3          0    1    3  415    2\n",
       "4          0    0    0    0  421"
      ]
     },
     "execution_count": 13,
     "metadata": {},
     "output_type": "execute_result"
    }
   ],
   "source": [
    "import pandas as pd\n",
    "prediction = model.predict_classes(x_test)\n",
    "pd.crosstab(y_test, prediction, rownames=['label'], colnames=['predict'])"
   ]
  },
  {
   "cell_type": "code",
   "execution_count": 14,
   "metadata": {},
   "outputs": [],
   "source": [
    "model.save('models/m1/pre/model.h5')"
   ]
  },
  {
   "cell_type": "code",
   "execution_count": 15,
   "metadata": {},
   "outputs": [],
   "source": [
    "model.save_weights('models/m1/pre/model_weights.h5')"
   ]
  },
  {
   "cell_type": "code",
   "execution_count": 16,
   "metadata": {},
   "outputs": [
    {
     "name": "stdout",
     "output_type": "stream",
     "text": [
      "WARNING:tensorflow:From C:\\Anaconda3\\envs\\tensorflow\\lib\\site-packages\\tensorflow\\lite\\python\\lite.py:591: convert_variables_to_constants (from tensorflow.python.framework.graph_util_impl) is deprecated and will be removed in a future version.\n",
      "Instructions for updating:\n",
      "Use tf.compat.v1.graph_util.convert_variables_to_constants\n",
      "WARNING:tensorflow:From C:\\Anaconda3\\envs\\tensorflow\\lib\\site-packages\\tensorflow\\python\\framework\\graph_util_impl.py:245: extract_sub_graph (from tensorflow.python.framework.graph_util_impl) is deprecated and will be removed in a future version.\n",
      "Instructions for updating:\n",
      "Use tf.compat.v1.graph_util.extract_sub_graph\n",
      "INFO:tensorflow:Froze 22 variables.\n",
      "INFO:tensorflow:Converted 22 variables to const ops.\n"
     ]
    },
    {
     "data": {
      "text/plain": [
       "4892808"
      ]
     },
     "execution_count": 16,
     "metadata": {},
     "output_type": "execute_result"
    }
   ],
   "source": [
    "from tensorflow.contrib import lite\n",
    "converter = lite.TFLiteConverter.from_keras_model_file('models/m1/pre/model.h5')\n",
    "tfmodel = converter.convert()\n",
    "open ('models/m1/pre/model.tflite' , \"wb\") .write(tfmodel)"
   ]
  },
  {
   "cell_type": "code",
   "execution_count": null,
   "metadata": {},
   "outputs": [],
   "source": []
  }
 ],
 "metadata": {
  "kernelspec": {
   "display_name": "Python 3",
   "language": "python",
   "name": "python3"
  },
  "language_info": {
   "codemirror_mode": {
    "name": "ipython",
    "version": 3
   },
   "file_extension": ".py",
   "mimetype": "text/x-python",
   "name": "python",
   "nbconvert_exporter": "python",
   "pygments_lexer": "ipython3",
   "version": "3.5.6"
  }
 },
 "nbformat": 4,
 "nbformat_minor": 2
}
